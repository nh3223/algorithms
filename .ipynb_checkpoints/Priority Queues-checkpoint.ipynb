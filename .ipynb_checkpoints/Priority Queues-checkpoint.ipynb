{
 "cells": [
  {
   "cell_type": "markdown",
   "metadata": {},
   "source": [
    "# Priority Queues"
   ]
  },
  {
   "cell_type": "markdown",
   "metadata": {},
   "source": [
    "##  Basic Implementation\n",
    "\n",
    "A priority queue is a data structure in which items are added as in a regular queue, but there is an order and the maximum or minimum item is removed."
   ]
  },
  {
   "cell_type": "markdown",
   "metadata": {},
   "source": [
    "#### Basic Priority Queue Class"
   ]
  },
  {
   "cell_type": "code",
   "execution_count": 36,
   "metadata": {},
   "outputs": [],
   "source": [
    "class Basic_Max_Priority_Queue:\n",
    "    \n",
    "    def __init__(self):\n",
    "        \n",
    "        self.queue = []\n",
    "        \n",
    "    def insert(self, item):\n",
    "        self.queue.append(item)        \n",
    "        \n",
    "    def remove(self):\n",
    "        if not self.empty():\n",
    "            max_element = self.max()\n",
    "            self.queue.remove(max_element)\n",
    "            return max_element\n",
    "        \n",
    "    def max(self):\n",
    "        return max(self.queue)        \n",
    "        \n",
    "    def empty(self):\n",
    "        return self.queue == []\n",
    "    \n",
    "    def size(self):\n",
    "        return len(self.queue)\n",
    "    \n",
    "    def __str__(self):\n",
    "        return f'{self.queue}'\n",
    "    \n",
    "    def __repr__(self):\n",
    "        return f'{self.queue}'"
   ]
  },
  {
   "cell_type": "markdown",
   "metadata": {},
   "source": [
    "#### Testing Basic Implementation"
   ]
  },
  {
   "cell_type": "code",
   "execution_count": 37,
   "metadata": {},
   "outputs": [
    {
     "name": "stdout",
     "output_type": "stream",
     "text": [
      "[]\n",
      "True\n",
      "[1]\n",
      "[1, 5, 4, 2, 3]\n",
      "False\n",
      "5\n",
      "5\n",
      "5\n",
      "[1, 4, 2, 3]\n"
     ]
    }
   ],
   "source": [
    "P = Basic_Max_Priority_Queue()\n",
    "print(P)\n",
    "print(P.empty())\n",
    "P.insert(1)\n",
    "print(P)\n",
    "P.insert(5)\n",
    "P.insert(4)\n",
    "P.insert(2)\n",
    "P.insert(3)\n",
    "print(P)\n",
    "print(P.empty())\n",
    "print(P.size())\n",
    "print(P.max())\n",
    "print(P.remove())\n",
    "print(P)"
   ]
  },
  {
   "cell_type": "markdown",
   "metadata": {},
   "source": [
    "## Binary Heap"
   ]
  },
  {
   "cell_type": "markdown",
   "metadata": {},
   "source": [
    "A binary heap is based on the concept of a complete binary tree.  A complete binary tree is fully balanced except for the lowest level. The height of a complete tree with N nodes is log(N).  The binary heap will acts as a binary tree, but will operate just as a simple array.  Properties:\n",
    "\n",
    "    Index 0 remains empty.\n",
    "    The largest element will be at a[1].  \n",
    "    Parent of node k is k//2.\n",
    "    Children of node K are at 2k and 2k+1\n",
    "\n",
    "When promoting/demoting elements, some problems can arise:\n",
    "\n",
    "    Issue: Child value becomes larger than Parent value\n",
    "    Resolution: Exchange child and Parent and continue until everything ordered properly\n",
    "    \n",
    "    Issue: Parent value becomes smaller than Child value\n",
    "    Resolution:  Exchange with larger child and repeat until properly ordered\n",
    "    \n",
    "Insertion:\n",
    "\n",
    "    Add node at end and then exchange as described above until it is in the proper spot\n",
    "    \n",
    "Deletion:\n",
    "\n",
    "    Swap root with last node, then sink/demote the new root down. Return the new last node (the old root)."
   ]
  },
  {
   "cell_type": "markdown",
   "metadata": {},
   "source": [
    "#### Implementation"
   ]
  },
  {
   "cell_type": "code",
   "execution_count": 95,
   "metadata": {},
   "outputs": [],
   "source": [
    "class Binary_Heap_Priority_Queue:\n",
    "    \n",
    "    def __init__(self):\n",
    "        \n",
    "        self.queue = [None]\n",
    "        \n",
    "    def insert(self, item):\n",
    "        self.queue.append(item)\n",
    "        if self.size() > 1:\n",
    "            self.swim()\n",
    "    \n",
    "    def remove(self):\n",
    "        if not self.empty():\n",
    "            self.queue[1], self.queue[-1] = self.queue[-1], self.queue[1]\n",
    "            max_element = self.queue.pop()\n",
    "            self.sink(1)\n",
    "            return max_element\n",
    "        \n",
    "    def swim(self):\n",
    "        element = self.size()\n",
    "        parent = element // 2\n",
    "        while self.queue[element] > self.queue[parent]:\n",
    "            self.queue[element], self.queue[parent] = self.queue[parent], self.queue[element]\n",
    "            element, parent = parent, parent // 2\n",
    "            if element == 1:\n",
    "                break\n",
    "        \n",
    "    def sink(self, element):\n",
    "        child1, child2 = element * 2, element * 2 + 1\n",
    "        while self.queue[element] < self.queue[child1] or self.queue[element] < self.queue[child2]:\n",
    "            larger_child = child1 if self.queue[child1] > self.queue[child2] else child2\n",
    "            self.queue[element], self.queue[larger_child] = self.queue[larger_child], self.queue[element]\n",
    "            element = larger_child\n",
    "            child1, child2 = element * 2, element * 2 + 1\n",
    "            if child1 > self.size() or child2 > self.size():\n",
    "                break\n",
    "            \n",
    "    def empty(self):\n",
    "        return self.queue == [None]\n",
    "        \n",
    "    def size(self):\n",
    "        return len(self.queue) - 1\n",
    "        \n",
    "    def __str__(self):\n",
    "        return f'{self.queue}'\n",
    "    \n",
    "    def __repr__(self):\n",
    "        return f'{self.queue}'"
   ]
  },
  {
   "cell_type": "markdown",
   "metadata": {},
   "source": [
    "#### Test Implementation"
   ]
  },
  {
   "cell_type": "code",
   "execution_count": 96,
   "metadata": {},
   "outputs": [
    {
     "name": "stdout",
     "output_type": "stream",
     "text": [
      "[None]\n",
      "True\n",
      "[None, 1]\n",
      "[None, 5, 3, 4, 1, 2]\n",
      "False\n",
      "5\n",
      "5\n",
      "[None, 4, 3, 2, 1]\n",
      "4\n",
      "[None, 3, 1, 2]\n",
      "[None, 5, 3.5, 2, 1, 3]\n",
      "5\n",
      "[None, 3.5, 3, 2, 1]\n"
     ]
    }
   ],
   "source": [
    "P = Binary_Heap_Priority_Queue()\n",
    "print(P)\n",
    "print(P.empty())\n",
    "P.insert(1)\n",
    "print(P)\n",
    "P.insert(5)\n",
    "P.insert(4)\n",
    "P.insert(2)\n",
    "P.insert(3)\n",
    "print(P)\n",
    "print(P.empty())\n",
    "print(P.size())\n",
    "print(P.remove())\n",
    "print(P)\n",
    "print(P.remove())\n",
    "print(P)\n",
    "P.insert(3.5)\n",
    "P.insert(5)\n",
    "print(P)\n",
    "print(P.remove())\n",
    "print(P)"
   ]
  },
  {
   "cell_type": "markdown",
   "metadata": {},
   "source": [
    "## Complexity\n",
    "\n",
    "Unordered Implementation: (basic version above): O(1) insertion, O(n) removal, O(n) findmax\n",
    "\n",
    "Ordered Implementation: O(n) insertion, O(1) removal, O(1) findmax\n",
    "\n",
    "Binary Heap Implementation: O(logN) insertion, O(logN) removal, O(1) findmax\n"
   ]
  },
  {
   "cell_type": "markdown",
   "metadata": {},
   "source": [
    "## Heapsort\n",
    "\n",
    "Basic implementation:  Create a max-heap with all N keys, repeatedly remove the maximum item."
   ]
  },
  {
   "cell_type": "code",
   "execution_count": 189,
   "metadata": {},
   "outputs": [
    {
     "data": {
      "text/plain": [
       "[-10, -10, -9, -3, 0, 1, 5, 6, 8, 9]"
      ]
     },
     "execution_count": 189,
     "metadata": {},
     "output_type": "execute_result"
    }
   ],
   "source": [
    "def swap(L, item_1, item_2):\n",
    "    L[item_1], L[item_2] = L[item_2], L[item_1]\n",
    "\n",
    "def sink(L,parent,N):\n",
    "    while 2 * parent <= N:\n",
    "        child = 2 * parent\n",
    "        if child > N:\n",
    "            break\n",
    "        else:\n",
    "            swapped_child = child if child == N or L[child] > L[child+1] else child + 1\n",
    "        if L[parent] < L[swapped_child]:\n",
    "            swap(L,parent,swapped_child)\n",
    "            parent = swapped_child\n",
    "        else:\n",
    "            break\n",
    "            \n",
    "def heap_construction(L):\n",
    "    if L[0] is not None:\n",
    "        N = len(L)\n",
    "        L.insert(0,None)\n",
    "    else:\n",
    "        N = len(L) - 1\n",
    "    for k in range(N//2,0,-1):\n",
    "        sink(L,k,N)\n",
    "\n",
    "def heap_sort(L):\n",
    "    n = len(L) if L[0] is not None else len(L) - 1\n",
    "    heap_construction(L)\n",
    "    while n > 1:\n",
    "        swap(L,1,n)\n",
    "        sink(L,1,n-1)\n",
    "        n -= 1\n",
    "    return L[1:]\n",
    "\n",
    "import random\n",
    "test = [random.randint(-10,10) for _ in range(10)]\n",
    "heap_sort(test)\n"
   ]
  },
  {
   "cell_type": "markdown",
   "metadata": {},
   "source": [
    "### Complexity\n",
    "\n",
    "Heap construction uses 2N compares and exchanges.\n",
    "\n",
    "Heap sorting uses 2 N logN compares and exchanges.\n",
    "\n",
    "Inplace sorting algorithm (No extra space!)  In this respect, better than mergesortand quicksort.  But inner loop is longer than quicksort, does not make good use of cache memory, and is not stable."
   ]
  },
  {
   "cell_type": "code",
   "execution_count": null,
   "metadata": {},
   "outputs": [],
   "source": []
  }
 ],
 "metadata": {
  "kernelspec": {
   "display_name": "Python 3",
   "language": "python",
   "name": "python3"
  },
  "language_info": {
   "codemirror_mode": {
    "name": "ipython",
    "version": 3
   },
   "file_extension": ".py",
   "mimetype": "text/x-python",
   "name": "python",
   "nbconvert_exporter": "python",
   "pygments_lexer": "ipython3",
   "version": "3.7.4"
  }
 },
 "nbformat": 4,
 "nbformat_minor": 2
}
