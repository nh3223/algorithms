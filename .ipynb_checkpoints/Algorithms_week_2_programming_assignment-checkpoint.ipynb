{
 "cells": [
  {
   "cell_type": "markdown",
   "metadata": {},
   "source": [
    "# Algorithms Part I, Week 2 Programming Assignment\n",
    "\n",
    "## Queues"
   ]
  },
  {
   "cell_type": "markdown",
   "metadata": {},
   "source": [
    "### Problem Statement\n",
    "\n",
    "Write a generic data type for a deque and a randomized queue. The goal of this assignment is to implement elementary data structures using arrays and linked lists, and to introduce you to generics and iterators.\n",
    "\n",
    "#### Dequeue\n",
    "\n",
    "A double-ended queue or deque (pronounced “deck”) is a generalization of a stack and a queue that supports adding and removing items from either the front or the back of the data structure.\n",
    "\n",
    "#### Randomized queue\n",
    "\n",
    "A randomized queue is similar to a stack or queue, except that the item removed is chosen uniformly at random among items in the data structure.  Each iterator must return the items in uniformly random order. The order of two or more iterators to the same randomized queue must be mutually independent; each iterator must maintain its own random order.\n",
    "\n",
    "#### Client\n",
    "\n",
    "Write a function that takes an integer k as a command-line argument; reads a sequence of strings from standard input and prints exactly k of them, uniformly at random. Print each item from the sequence at most once."
   ]
  },
  {
   "cell_type": "markdown",
   "metadata": {},
   "source": [
    "### Step 0: Import Modules for Use in Solution"
   ]
  },
  {
   "cell_type": "code",
   "execution_count": 1,
   "metadata": {},
   "outputs": [],
   "source": [
    "import random"
   ]
  },
  {
   "cell_type": "markdown",
   "metadata": {},
   "source": [
    "### Step 1: Define the Deque Class\n",
    "\n",
    "The Deque class includes the following functions:\n",
    "\n",
    "    __init__:  Initializes the deque as a list.\n",
    "    \n",
    "    is_empty:  Returns True if the deque is empty, False otherwise\n",
    "    \n",
    "    size:  Returns the number of items in the deque\n",
    "    \n",
    "    add_first: Takes an item as input. Checks if not None and, if so, adds it to the front of the deque\n",
    "    \n",
    "    add_last:  Takes and item as input. Checks if not None and, if so, adds it to the back of the deque\n",
    "    \n",
    "    remove_first:  Checks if deque is empty.  If not, removes and returns the item at the front of the deque\n",
    "    \n",
    "    remove_last:  Checks if deque is empty.  If not, removes and returns the item at the back of the deque\n",
    "    \n",
    "    __iter__:  Returns an iterator to iterate through the deque"
   ]
  },
  {
   "cell_type": "code",
   "execution_count": 20,
   "metadata": {},
   "outputs": [],
   "source": [
    "class Deque:\n",
    "    \n",
    "    def __init__(self):\n",
    "        self.deque = []\n",
    "        \n",
    "    def is_empty(self):\n",
    "        return self.deque == []\n",
    "    \n",
    "    def size(self):\n",
    "        return len(self.deque)\n",
    "    \n",
    "    def add_first(self, item):\n",
    "        if item is None:\n",
    "            print('Not a valid argument')\n",
    "        else:\n",
    "            self.deque.insert(0, item)\n",
    "    \n",
    "    def add_last(self, item):\n",
    "        if item is None:\n",
    "            print('Not a valid argument')\n",
    "        else:\n",
    "            self.deque.append(item)\n",
    "    \n",
    "    def remove_first(self):\n",
    "        if self.is_empty():\n",
    "            print('Deque is empty')\n",
    "        else:\n",
    "            return self.deque.pop(0)\n",
    "    \n",
    "    def remove_last(self):\n",
    "        if self.is_empty():\n",
    "            print('Deque is empty')\n",
    "        else:\n",
    "            return self.deque.pop()\n",
    "    \n",
    "    def __iter__(self):\n",
    "        return iter(self.deque)"
   ]
  },
  {
   "cell_type": "markdown",
   "metadata": {},
   "source": [
    "### Step 1A: Test Implementation"
   ]
  },
  {
   "cell_type": "code",
   "execution_count": 21,
   "metadata": {},
   "outputs": [
    {
     "name": "stdout",
     "output_type": "stream",
     "text": [
      "True\n",
      "Deque is empty\n",
      "Deque is empty\n",
      "None None\n",
      "Not a valid argument\n",
      "Not a valid argument\n",
      "True\n",
      "2\n",
      "1\n",
      "3\n",
      "4\n",
      "1\n",
      "3\n"
     ]
    },
    {
     "data": {
      "text/plain": [
       "0"
      ]
     },
     "execution_count": 21,
     "metadata": {},
     "output_type": "execute_result"
    }
   ],
   "source": [
    "# Create the deque\n",
    "D = Deque()\n",
    "\n",
    "# Check if empty when queue is empty\n",
    "print(D.is_empty())\n",
    "\n",
    "# Check removal when queue is empty\n",
    "i = D.remove_first()\n",
    "j = D.remove_last()\n",
    "print(i,j)\n",
    "\n",
    "# Try to add null arguments\n",
    "D.add_first(None)\n",
    "D.add_last(None)\n",
    "print(D.is_empty())\n",
    "\n",
    "# Add items to front\n",
    "D.add_first(1)\n",
    "D.add_first(2)\n",
    "\n",
    "# Add items to back\n",
    "D.add_last(3)\n",
    "D.add_last(4)\n",
    "\n",
    "# Iterate through items\n",
    "for item in D:\n",
    "    print(item)\n",
    "\n",
    "# Remove items from front and back\n",
    "D.remove_first()\n",
    "D.remove_last()\n",
    "\n",
    "# Iterate through items\n",
    "for item in D:\n",
    "    print(item)\n",
    "    \n",
    "D.add_first(0)\n",
    "D.remove_first()\n"
   ]
  },
  {
   "cell_type": "markdown",
   "metadata": {},
   "source": [
    "### Step 2: Define the Randomized_Queue Class\n",
    "\n",
    "The Randomized_Queue class includes the following functions:\n",
    "\n",
    "    __init__:  Initializes the queue as a list.\n",
    "    \n",
    "    is_empty:  Returns True if the queue is empty, False otherwise\n",
    "    \n",
    "    size:  Returns the number of items in the queue\n",
    "    \n",
    "    enqueue: Takes an item as input. Checks if not None and, if so, adds it to the end of the queue\n",
    "    \n",
    "    find_random_index: Returns a random integer between 0 and the size of the queue - 1\n",
    "    \n",
    "    dequeue: Checks if queue is empty.  If not, removes and returns an item at random\n",
    "    \n",
    "    sample:  Checks if queue is empty.  If not, returns an item at random with removing it\n",
    "    \n",
    "    __iter__:  Returns an iterator that iterates through the queue in random order"
   ]
  },
  {
   "cell_type": "code",
   "execution_count": 45,
   "metadata": {},
   "outputs": [],
   "source": [
    "class Randomized_Queue:\n",
    "    \n",
    "    def __init__(self):\n",
    "        self.queue = []\n",
    "        \n",
    "    def is_empty(self):\n",
    "        return self.queue == []\n",
    "    \n",
    "    def size(self):\n",
    "        return len(self.queue)    \n",
    "    \n",
    "    def enqueue(self, item):\n",
    "        if item is None:\n",
    "            print('Not a valid argument')\n",
    "        else:\n",
    "            self.queue.append(item)\n",
    "    \n",
    "    def find_random_index(self):\n",
    "        return random.randint(0,self.size()-1)\n",
    "    \n",
    "    def dequeue(self):\n",
    "        if self.is_empty():\n",
    "            print('Queue is empty')\n",
    "        else:\n",
    "            return self.queue.pop(self.find_random_index())                              \n",
    "                              \n",
    "    def sample(self):\n",
    "        if self.is_empty():\n",
    "            print('Queue is empty')\n",
    "        else:\n",
    "            return self.queue[self.find_random_index()]\n",
    "    \n",
    "    def __iter__(self):\n",
    "        temp_queue = []\n",
    "        while self.size() > 0:\n",
    "            temp_queue.append(self.queue.pop(self.find_random_index()))\n",
    "        self.queue = temp_queue\n",
    "        return iter(self.queue)"
   ]
  },
  {
   "cell_type": "markdown",
   "metadata": {},
   "source": [
    "### Step 2A: Test Implementation"
   ]
  },
  {
   "cell_type": "code",
   "execution_count": 49,
   "metadata": {},
   "outputs": [
    {
     "name": "stdout",
     "output_type": "stream",
     "text": [
      "True\n",
      "Not a valid argument\n",
      "Queue is empty\n",
      "Queue is empty\n",
      "None\n",
      "4\n",
      "1\n",
      "3\n",
      "4\n",
      "Test  1\n",
      "2\n",
      "3\n",
      "4\n",
      "1\n",
      "0\n",
      "Test  2\n",
      "3\n",
      "1\n",
      "4\n",
      "2\n",
      "0\n",
      "Test  3\n",
      "1\n",
      "0\n",
      "2\n",
      "3\n",
      "4\n",
      "Check Dequeue\n",
      "3 2\n",
      "4\n",
      "1\n",
      "0\n",
      "False\n"
     ]
    }
   ],
   "source": [
    "# Create the Queue\n",
    "Q = Randomized_Queue()\n",
    "\n",
    "# Check if empty when empty\n",
    "print(Q.is_empty())\n",
    "\n",
    "# Check adding None as an item\n",
    "Q.enqueue(None)\n",
    "\n",
    "# Check dequeue and sample when the queue is empty\n",
    "i = Q.dequeue()\n",
    "Q.sample()\n",
    "print(i)\n",
    "\n",
    "# Add values to the queue\n",
    "Q.enqueue(0)\n",
    "Q.enqueue(1)\n",
    "Q.enqueue(2)\n",
    "Q.enqueue(3)\n",
    "Q.enqueue(4)\n",
    "\n",
    "# Check sample when queue has values\n",
    "for _ in range(4):\n",
    "    print(Q.sample())\n",
    "    \n",
    "# Check iterating through queue randomly\n",
    "for i in range(1,4):\n",
    "    print('Test ',i)\n",
    "    for item in Q:\n",
    "        print(item)\n",
    "        \n",
    "# Check dequeue\n",
    "print('Check Dequeue')\n",
    "x = Q.dequeue()\n",
    "y = Q.dequeue()\n",
    "print(x, y)\n",
    "for item in Q:\n",
    "    print(item)\n",
    "    \n",
    "# Check is_empty when queue has values\n",
    "print(Q.is_empty())"
   ]
  },
  {
   "cell_type": "markdown",
   "metadata": {},
   "source": [
    "### Step 3: Client Function\n",
    "\n",
    "Inputs:\n",
    "    \n",
    "    k, an integer > 0 and <= length of L\n",
    "    \n",
    "    L, a list of items\n",
    "        \n",
    "Actions: Prints k items from L at random\n",
    "\n",
    "Returns: Nothing"
   ]
  },
  {
   "cell_type": "code",
   "execution_count": 51,
   "metadata": {},
   "outputs": [],
   "source": [
    "def client(k, L):\n",
    "    Q = Randomized_Queue()\n",
    "    for item in L:\n",
    "        Q.enqueue(item)\n",
    "    for _ in range(k):\n",
    "        print(Q.dequeue())"
   ]
  },
  {
   "cell_type": "markdown",
   "metadata": {},
   "source": [
    "### Step 3A: Test Implementation"
   ]
  },
  {
   "cell_type": "code",
   "execution_count": 53,
   "metadata": {},
   "outputs": [
    {
     "name": "stdout",
     "output_type": "stream",
     "text": [
      "Test  0\n",
      "b\n",
      "c\n",
      "2\n",
      "a\n",
      "3\n",
      "Test  1\n",
      "1\n",
      "a\n",
      "3\n",
      "4\n",
      "c\n",
      "Test  2\n",
      "2\n",
      "a\n",
      "c\n",
      "3\n",
      "4\n"
     ]
    }
   ],
   "source": [
    "k = 5\n",
    "L = [1,2,3,4,'a','b','c']\n",
    "for i in range(3):\n",
    "    print('Test ', i)\n",
    "    client(k, L)"
   ]
  },
  {
   "cell_type": "code",
   "execution_count": null,
   "metadata": {},
   "outputs": [],
   "source": []
  }
 ],
 "metadata": {
  "kernelspec": {
   "display_name": "Python 3",
   "language": "python",
   "name": "python3"
  },
  "language_info": {
   "codemirror_mode": {
    "name": "ipython",
    "version": 3
   },
   "file_extension": ".py",
   "mimetype": "text/x-python",
   "name": "python",
   "nbconvert_exporter": "python",
   "pygments_lexer": "ipython3",
   "version": "3.7.4"
  }
 },
 "nbformat": 4,
 "nbformat_minor": 2
}
