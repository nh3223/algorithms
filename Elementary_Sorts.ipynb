{
 "cells": [
  {
   "cell_type": "markdown",
   "metadata": {},
   "source": [
    "# Elementary Sorting\n",
    "\n",
    "The class uses Java.  These notes will do an implementation in Python."
   ]
  },
  {
   "cell_type": "markdown",
   "metadata": {},
   "source": [
    "## Introduction: Rules of the Game\n",
    "\n",
    "A sorting function must have some means of comparing two objects to determine how to sort.  The mechanism for doing this is called a callback.  There must be built in to the object definition some method for comparing that the sorting function can use."
   ]
  },
  {
   "cell_type": "markdown",
   "metadata": {},
   "source": [
    "For basic integer/float dataypes, the comparing mechanism is built in:"
   ]
  },
  {
   "cell_type": "code",
   "execution_count": 2,
   "metadata": {},
   "outputs": [
    {
     "name": "stdout",
     "output_type": "stream",
     "text": [
      "False\n",
      "True\n",
      "True\n",
      "False\n"
     ]
    }
   ],
   "source": [
    "print(5  >  5.5)\n",
    "print(-2 <  5)\n",
    "print(4  == 4.0)\n",
    "print(4  == 5)"
   ]
  },
  {
   "cell_type": "markdown",
   "metadata": {},
   "source": [
    "For custom objects, the comparing method needs to be defined:"
   ]
  },
  {
   "cell_type": "code",
   "execution_count": 3,
   "metadata": {},
   "outputs": [
    {
     "ename": "TypeError",
     "evalue": "'>' not supported between instances of 'Custom_Integer' and 'Custom_Integer'",
     "output_type": "error",
     "traceback": [
      "\u001b[1;31m---------------------------------------------------------------------------\u001b[0m",
      "\u001b[1;31mTypeError\u001b[0m                                 Traceback (most recent call last)",
      "\u001b[1;32m<ipython-input-3-ae543337a112>\u001b[0m in \u001b[0;36m<module>\u001b[1;34m\u001b[0m\n\u001b[0;32m      8\u001b[0m \u001b[0mZ\u001b[0m \u001b[1;33m=\u001b[0m \u001b[0mCustom_Integer\u001b[0m\u001b[1;33m(\u001b[0m\u001b[1;36m5\u001b[0m\u001b[1;33m)\u001b[0m\u001b[1;33m\u001b[0m\u001b[1;33m\u001b[0m\u001b[0m\n\u001b[0;32m      9\u001b[0m \u001b[1;33m\u001b[0m\u001b[0m\n\u001b[1;32m---> 10\u001b[1;33m \u001b[0mprint\u001b[0m\u001b[1;33m(\u001b[0m\u001b[0mX\u001b[0m\u001b[1;33m>\u001b[0m\u001b[0mY\u001b[0m\u001b[1;33m)\u001b[0m\u001b[1;33m\u001b[0m\u001b[1;33m\u001b[0m\u001b[0m\n\u001b[0m",
      "\u001b[1;31mTypeError\u001b[0m: '>' not supported between instances of 'Custom_Integer' and 'Custom_Integer'"
     ]
    }
   ],
   "source": [
    "class Custom_Integer:\n",
    "    \n",
    "    def __init__(self, x):\n",
    "        self.x = x\n",
    "\n",
    "X = Custom_Integer(5)\n",
    "Y = Custom_Integer(4)\n",
    "\n",
    "print(X>Y)"
   ]
  },
  {
   "cell_type": "code",
   "execution_count": 8,
   "metadata": {},
   "outputs": [
    {
     "name": "stdout",
     "output_type": "stream",
     "text": [
      "False\n",
      "True\n"
     ]
    }
   ],
   "source": [
    "class Revised_Custom_Integer:\n",
    "    \n",
    "    def __init__(self, x):\n",
    "        self.x = x\n",
    "        \n",
    "    def __gt__(self, y):\n",
    "        x = self.x\n",
    "        y = y.x\n",
    "        return True if x > y else False\n",
    "    \n",
    "X = Revised_Custom_Integer(4)\n",
    "Y = Revised_Custom_Integer(5)\n",
    "\n",
    "print(X > Y)\n",
    "print(Y > X)"
   ]
  },
  {
   "cell_type": "markdown",
   "metadata": {},
   "source": [
    "The methods for comparing are: \n",
    "\n",
    "    __gt__, \n",
    "    __ge__, \n",
    "    __eq__, \n",
    "    __le__, \n",
    "    __lt__, \n",
    "    __ne__\n",
    "    \n",
    "Cannot compare different data types:"
   ]
  },
  {
   "cell_type": "code",
   "execution_count": 10,
   "metadata": {},
   "outputs": [
    {
     "ename": "AttributeError",
     "evalue": "'int' object has no attribute 'x'",
     "output_type": "error",
     "traceback": [
      "\u001b[1;31m---------------------------------------------------------------------------\u001b[0m",
      "\u001b[1;31mAttributeError\u001b[0m                            Traceback (most recent call last)",
      "\u001b[1;32m<ipython-input-10-396401e88188>\u001b[0m in \u001b[0;36m<module>\u001b[1;34m\u001b[0m\n\u001b[1;32m----> 1\u001b[1;33m \u001b[0mprint\u001b[0m\u001b[1;33m(\u001b[0m \u001b[0mX\u001b[0m \u001b[1;33m>\u001b[0m \u001b[1;36m1\u001b[0m\u001b[1;33m)\u001b[0m\u001b[1;33m\u001b[0m\u001b[1;33m\u001b[0m\u001b[0m\n\u001b[0m",
      "\u001b[1;32m<ipython-input-8-43aa04eae6d6>\u001b[0m in \u001b[0;36m__gt__\u001b[1;34m(self, y)\u001b[0m\n\u001b[0;32m      6\u001b[0m     \u001b[1;32mdef\u001b[0m \u001b[0m__gt__\u001b[0m\u001b[1;33m(\u001b[0m\u001b[0mself\u001b[0m\u001b[1;33m,\u001b[0m \u001b[0my\u001b[0m\u001b[1;33m)\u001b[0m\u001b[1;33m:\u001b[0m\u001b[1;33m\u001b[0m\u001b[1;33m\u001b[0m\u001b[0m\n\u001b[0;32m      7\u001b[0m         \u001b[0mx\u001b[0m \u001b[1;33m=\u001b[0m \u001b[0mself\u001b[0m\u001b[1;33m.\u001b[0m\u001b[0mx\u001b[0m\u001b[1;33m\u001b[0m\u001b[1;33m\u001b[0m\u001b[0m\n\u001b[1;32m----> 8\u001b[1;33m         \u001b[0my\u001b[0m \u001b[1;33m=\u001b[0m \u001b[0my\u001b[0m\u001b[1;33m.\u001b[0m\u001b[0mx\u001b[0m\u001b[1;33m\u001b[0m\u001b[1;33m\u001b[0m\u001b[0m\n\u001b[0m\u001b[0;32m      9\u001b[0m         \u001b[1;32mreturn\u001b[0m \u001b[1;32mTrue\u001b[0m \u001b[1;32mif\u001b[0m \u001b[0mx\u001b[0m \u001b[1;33m>\u001b[0m \u001b[0my\u001b[0m \u001b[1;32melse\u001b[0m \u001b[1;32mFalse\u001b[0m\u001b[1;33m\u001b[0m\u001b[1;33m\u001b[0m\u001b[0m\n\u001b[0;32m     10\u001b[0m \u001b[1;33m\u001b[0m\u001b[0m\n",
      "\u001b[1;31mAttributeError\u001b[0m: 'int' object has no attribute 'x'"
     ]
    }
   ],
   "source": [
    "print( X > 1)"
   ]
  },
  {
   "cell_type": "markdown",
   "metadata": {},
   "source": [
    "When implementing compare functions, they must satisfy the following properties:\n",
    "    \n",
    "    Antisymmetry: if v ≤ w and w ≤ v, then v = w.\n",
    "    Transitivity: if v ≤ w and w ≤ x, then v ≤ x.\n",
    "        Totality: either v ≤ w or w ≤ v or both."
   ]
  },
  {
   "cell_type": "markdown",
   "metadata": {},
   "source": [
    "## Selection Sort\n",
    "\n",
    "In each iteration, find the smallest remaining entry and swap it with the location of the index pointer, then move the index pointer up one.\n",
    "\n",
    "Time complexity: N^2 / 2 compares and N swaps.  Complexity is N^2 (quadratic) even if the original array is already sorted."
   ]
  },
  {
   "cell_type": "code",
   "execution_count": 28,
   "metadata": {},
   "outputs": [
    {
     "name": "stdout",
     "output_type": "stream",
     "text": [
      "[5, 7, 4, 5, 8, 5, 3, 9]\n",
      "[3, 7, 4, 5, 8, 5, 5, 9]\n",
      "[3, 4, 7, 5, 8, 5, 5, 9]\n",
      "[3, 4, 5, 7, 8, 5, 5, 9]\n",
      "[3, 4, 5, 5, 8, 7, 5, 9]\n",
      "[3, 4, 5, 5, 5, 7, 8, 9]\n",
      "[3, 4, 5, 5, 5, 7, 8, 9]\n",
      "[3, 4, 5, 5, 5, 7, 8, 9]\n"
     ]
    },
    {
     "data": {
      "text/plain": [
       "[3, 4, 5, 5, 5, 7, 8, 9]"
      ]
     },
     "execution_count": 28,
     "metadata": {},
     "output_type": "execute_result"
    }
   ],
   "source": [
    "def selection_sort(L):\n",
    "    print(L)\n",
    "    l = len(L)\n",
    "    for i in range(l-1):\n",
    "        min_index = i\n",
    "        for j in range(i + 1, l):\n",
    "            if L[j] < L[min_index]:\n",
    "                min_index = j\n",
    "        L[i], L[min_index] = L[min_index], L[i]\n",
    "        print(L)\n",
    "    return L\n",
    "\n",
    "test = [5,7,4,5,8,5,3,9]\n",
    "selection_sort(test)"
   ]
  },
  {
   "cell_type": "markdown",
   "metadata": {},
   "source": [
    "## Insertion Sort\n",
    "\n",
    "In each iteration, compare the entry at the pointer with each item to its left and swap if the item to the left is greater.  Stop when at index 0 or the number to the left is less.\n",
    "\n",
    "Time complexity is N^2 / 4 on average for an array that is randomly ordered.  Best case is linear if it already sorted.  Worst case is N^2 / 2 (but also N^2 / 2 exchanges)."
   ]
  },
  {
   "cell_type": "code",
   "execution_count": 29,
   "metadata": {},
   "outputs": [
    {
     "name": "stdout",
     "output_type": "stream",
     "text": [
      "[5, 7, 4, 5, 8, 5, 3, 9]\n",
      "[5, 7, 4, 5, 8, 5, 3, 9]\n",
      "[4, 5, 7, 5, 8, 5, 3, 9]\n",
      "[4, 5, 5, 7, 8, 5, 3, 9]\n",
      "[4, 5, 5, 7, 8, 5, 3, 9]\n",
      "[4, 5, 5, 5, 7, 8, 3, 9]\n",
      "[3, 4, 5, 5, 5, 7, 8, 9]\n",
      "[3, 4, 5, 5, 5, 7, 8, 9]\n"
     ]
    },
    {
     "data": {
      "text/plain": [
       "[3, 4, 5, 5, 5, 7, 8, 9]"
      ]
     },
     "execution_count": 29,
     "metadata": {},
     "output_type": "execute_result"
    }
   ],
   "source": [
    "def insertion_sort(L):\n",
    "    print(L)\n",
    "    for i in range(1,len(L)):\n",
    "        j = i\n",
    "        while j > 0 and L[j] < L[j-1]:\n",
    "            L[j], L[j-1] = L[j-1], L[j]\n",
    "            j -= 1\n",
    "        print(L)\n",
    "    return L\n",
    "\n",
    "test = [5,7,4,5,8,5,3,9]\n",
    "insertion_sort(test)"
   ]
  },
  {
   "cell_type": "markdown",
   "metadata": {},
   "source": [
    "### Partially Sorted Arrays"
   ]
  },
  {
   "cell_type": "markdown",
   "metadata": {},
   "source": [
    "An array is partially sorted if the number of inversions is less than some constant times N.  An example would be a large array with a small number of inversions or if an a small number of unsorted elements was appended to a sorted array.  Insertion Sort for partially sorted arrays is linear."
   ]
  },
  {
   "cell_type": "markdown",
   "metadata": {},
   "source": [
    "## Shell Sort\n",
    "\n",
    "Move entries more than one position at a time by h-sorting the array.  An h-sorted array is h different interleaved sorted subsequences.  Will get a completely sorted array by applying different values for h.  With big h values, amount to sort is small.  When h is small, the array will already be partially sorted.  Difficult to determine the best values of h's, but a common one that works fairly well is inervals of 3x + 1.\n",
    "\n",
    "Time complexity in worst case is N^(3/2).  Average is something less, but no definitive answer yet.\n",
    "\n",
    "Benefits.  Very fast unless the array is huge.  Small, fixed footprint for code. Hardware sort prototype"
   ]
  },
  {
   "cell_type": "code",
   "execution_count": 43,
   "metadata": {},
   "outputs": [
    {
     "name": "stdout",
     "output_type": "stream",
     "text": [
      "h =  13\n",
      "[1, 4, 5, 8, 7, 3, 19, 2, 33, 5, 46, 99, 32, 6, 25, 76, 43, 4, 56, 78, 98]\n",
      "[1, 4, 5, 8, 7, 3, 19, 2, 33, 5, 46, 99, 32, 6, 25, 76, 43, 4, 56, 78, 98]\n",
      "[1, 4, 5, 8, 7, 3, 19, 2, 33, 5, 46, 99, 32, 6, 25, 76, 43, 4, 56, 78, 98]\n",
      "[1, 4, 5, 8, 7, 3, 19, 2, 33, 5, 46, 99, 32, 6, 25, 76, 43, 4, 56, 78, 98]\n",
      "[1, 4, 5, 8, 4, 3, 19, 2, 33, 5, 46, 99, 32, 6, 25, 76, 43, 7, 56, 78, 98]\n",
      "[1, 4, 5, 8, 4, 3, 19, 2, 33, 5, 46, 99, 32, 6, 25, 76, 43, 7, 56, 78, 98]\n",
      "[1, 4, 5, 8, 4, 3, 19, 2, 33, 5, 46, 99, 32, 6, 25, 76, 43, 7, 56, 78, 98]\n",
      "[1, 4, 5, 8, 4, 3, 19, 2, 33, 5, 46, 99, 32, 6, 25, 76, 43, 7, 56, 78, 98]\n",
      "h =  4\n",
      "[1, 4, 5, 8, 4, 3, 19, 2, 33, 5, 46, 99, 32, 6, 25, 76, 43, 7, 56, 78, 98]\n",
      "[1, 3, 5, 8, 4, 4, 19, 2, 33, 5, 46, 99, 32, 6, 25, 76, 43, 7, 56, 78, 98]\n",
      "[1, 3, 5, 8, 4, 4, 19, 2, 33, 5, 46, 99, 32, 6, 25, 76, 43, 7, 56, 78, 98]\n",
      "[1, 3, 5, 2, 4, 4, 19, 8, 33, 5, 46, 99, 32, 6, 25, 76, 43, 7, 56, 78, 98]\n",
      "[1, 3, 5, 2, 4, 4, 19, 8, 33, 5, 46, 99, 32, 6, 25, 76, 43, 7, 56, 78, 98]\n",
      "[1, 3, 5, 2, 4, 4, 19, 8, 33, 5, 46, 99, 32, 6, 25, 76, 43, 7, 56, 78, 98]\n",
      "[1, 3, 5, 2, 4, 4, 19, 8, 33, 5, 46, 99, 32, 6, 25, 76, 43, 7, 56, 78, 98]\n",
      "[1, 3, 5, 2, 4, 4, 19, 8, 33, 5, 46, 99, 32, 6, 25, 76, 43, 7, 56, 78, 98]\n",
      "[1, 3, 5, 2, 4, 4, 19, 8, 32, 5, 46, 99, 33, 6, 25, 76, 43, 7, 56, 78, 98]\n",
      "[1, 3, 5, 2, 4, 4, 19, 8, 32, 5, 46, 99, 33, 6, 25, 76, 43, 7, 56, 78, 98]\n",
      "[1, 3, 5, 2, 4, 4, 19, 8, 32, 5, 25, 99, 33, 6, 46, 76, 43, 7, 56, 78, 98]\n",
      "[1, 3, 5, 2, 4, 4, 19, 8, 32, 5, 25, 76, 33, 6, 46, 99, 43, 7, 56, 78, 98]\n",
      "[1, 3, 5, 2, 4, 4, 19, 8, 32, 5, 25, 76, 33, 6, 46, 99, 43, 7, 56, 78, 98]\n",
      "[1, 3, 5, 2, 4, 4, 19, 8, 32, 5, 25, 76, 33, 6, 46, 99, 43, 7, 56, 78, 98]\n",
      "[1, 3, 5, 2, 4, 4, 19, 8, 32, 5, 25, 76, 33, 6, 46, 99, 43, 7, 56, 78, 98]\n",
      "[1, 3, 5, 2, 4, 4, 19, 8, 32, 5, 25, 76, 33, 6, 46, 78, 43, 7, 56, 99, 98]\n",
      "[1, 3, 5, 2, 4, 4, 19, 8, 32, 5, 25, 76, 33, 6, 46, 78, 43, 7, 56, 99, 98]\n",
      "h =  1\n",
      "[1, 3, 5, 2, 4, 4, 19, 8, 32, 5, 25, 76, 33, 6, 46, 78, 43, 7, 56, 99, 98]\n",
      "[1, 3, 5, 2, 4, 4, 19, 8, 32, 5, 25, 76, 33, 6, 46, 78, 43, 7, 56, 99, 98]\n",
      "[1, 2, 3, 5, 4, 4, 19, 8, 32, 5, 25, 76, 33, 6, 46, 78, 43, 7, 56, 99, 98]\n",
      "[1, 2, 3, 4, 5, 4, 19, 8, 32, 5, 25, 76, 33, 6, 46, 78, 43, 7, 56, 99, 98]\n",
      "[1, 2, 3, 4, 4, 5, 19, 8, 32, 5, 25, 76, 33, 6, 46, 78, 43, 7, 56, 99, 98]\n",
      "[1, 2, 3, 4, 4, 5, 19, 8, 32, 5, 25, 76, 33, 6, 46, 78, 43, 7, 56, 99, 98]\n",
      "[1, 2, 3, 4, 4, 5, 8, 19, 32, 5, 25, 76, 33, 6, 46, 78, 43, 7, 56, 99, 98]\n",
      "[1, 2, 3, 4, 4, 5, 8, 19, 32, 5, 25, 76, 33, 6, 46, 78, 43, 7, 56, 99, 98]\n",
      "[1, 2, 3, 4, 4, 5, 5, 8, 19, 32, 25, 76, 33, 6, 46, 78, 43, 7, 56, 99, 98]\n",
      "[1, 2, 3, 4, 4, 5, 5, 8, 19, 25, 32, 76, 33, 6, 46, 78, 43, 7, 56, 99, 98]\n",
      "[1, 2, 3, 4, 4, 5, 5, 8, 19, 25, 32, 76, 33, 6, 46, 78, 43, 7, 56, 99, 98]\n",
      "[1, 2, 3, 4, 4, 5, 5, 8, 19, 25, 32, 33, 76, 6, 46, 78, 43, 7, 56, 99, 98]\n",
      "[1, 2, 3, 4, 4, 5, 5, 6, 8, 19, 25, 32, 33, 76, 46, 78, 43, 7, 56, 99, 98]\n",
      "[1, 2, 3, 4, 4, 5, 5, 6, 8, 19, 25, 32, 33, 46, 76, 78, 43, 7, 56, 99, 98]\n",
      "[1, 2, 3, 4, 4, 5, 5, 6, 8, 19, 25, 32, 33, 46, 76, 78, 43, 7, 56, 99, 98]\n",
      "[1, 2, 3, 4, 4, 5, 5, 6, 8, 19, 25, 32, 33, 43, 46, 76, 78, 7, 56, 99, 98]\n",
      "[1, 2, 3, 4, 4, 5, 5, 6, 7, 8, 19, 25, 32, 33, 43, 46, 76, 78, 56, 99, 98]\n",
      "[1, 2, 3, 4, 4, 5, 5, 6, 7, 8, 19, 25, 32, 33, 43, 46, 56, 76, 78, 99, 98]\n",
      "[1, 2, 3, 4, 4, 5, 5, 6, 7, 8, 19, 25, 32, 33, 43, 46, 56, 76, 78, 99, 98]\n",
      "[1, 2, 3, 4, 4, 5, 5, 6, 7, 8, 19, 25, 32, 33, 43, 46, 56, 76, 78, 98, 99]\n"
     ]
    },
    {
     "data": {
      "text/plain": [
       "[1, 2, 3, 4, 4, 5, 5, 6, 7, 8, 19, 25, 32, 33, 43, 46, 56, 76, 78, 98, 99]"
      ]
     },
     "execution_count": 43,
     "metadata": {},
     "output_type": "execute_result"
    }
   ],
   "source": [
    "def shell_sort(L):\n",
    "    N = len(L)\n",
    "    h = 1\n",
    "    while h < N / 3:\n",
    "        h = 3 * h + 1\n",
    "    while h >= 1:\n",
    "        print('h = ', h)\n",
    "        for i in range(h,N):\n",
    "            j = i\n",
    "            while j > h-1 and L[j] < L[j-h]:\n",
    "                L[j], L[j-h] = L[j-h], L[j]\n",
    "                j -= h\n",
    "            print(L)\n",
    "        h //= 3\n",
    "    return L\n",
    "\n",
    "test = [6,4,5,8,7,3,19,2,33,5,46,99,32,1,25,76,43,4,56,78,98]\n",
    "shell_sort(test)"
   ]
  },
  {
   "cell_type": "markdown",
   "metadata": {},
   "source": [
    "### Shuffling\n",
    "\n",
    "In each iteration, pick a random integer (r) between 0 and i and swap L[r] and L[i].\n",
    "\n",
    "Time complexity is linear."
   ]
  },
  {
   "cell_type": "code",
   "execution_count": 47,
   "metadata": {},
   "outputs": [
    {
     "name": "stdout",
     "output_type": "stream",
     "text": [
      "[2, 1, 3, 4, 5, 6, 7, 8, 9, 10]\n",
      "[3, 1, 2, 4, 5, 6, 7, 8, 9, 10]\n",
      "[4, 1, 2, 3, 5, 6, 7, 8, 9, 10]\n",
      "[4, 5, 2, 3, 1, 6, 7, 8, 9, 10]\n",
      "[4, 5, 2, 3, 6, 1, 7, 8, 9, 10]\n",
      "[4, 7, 2, 3, 6, 1, 5, 8, 9, 10]\n",
      "[4, 7, 2, 8, 6, 1, 5, 3, 9, 10]\n",
      "[4, 7, 2, 8, 6, 1, 5, 3, 9, 10]\n",
      "[4, 7, 10, 8, 6, 1, 5, 3, 9, 2]\n"
     ]
    },
    {
     "data": {
      "text/plain": [
       "[4, 7, 10, 8, 6, 1, 5, 3, 9, 2]"
      ]
     },
     "execution_count": 47,
     "metadata": {},
     "output_type": "execute_result"
    }
   ],
   "source": [
    "import random\n",
    "def shuffle(L):\n",
    "    for i in range(1,len(L)):\n",
    "        r = random.randint(0,i)\n",
    "        L[i], L[r] = L[r], L[i]\n",
    "        print(L)\n",
    "    return L\n",
    "\n",
    "test = [1,2,3,4,5,6,7,8,9,10]\n",
    "shuffle(test)"
   ]
  },
  {
   "cell_type": "markdown",
   "metadata": {},
   "source": [
    "## Convex Hull\n",
    "\n",
    "The convex hull of a set of N point is the smallest perimeter enclosing all points.\n",
    "\n",
    "Convex hull output is the sequence of vertices that gives us the polygon.\n",
    "\n",
    "Can transverse the convex hull by only making counterclockwise turns.  The vertices of the hull appear in increasing polar angle from point p, where p has the lowest y-coordinate."
   ]
  },
  {
   "cell_type": "markdown",
   "metadata": {},
   "source": [
    "### Graham Scan\n",
    "\n",
    "1. Choose point p with smallest y coordinate (sorting based on just y coordinate of point)\n",
    "2. Sort points by polar angle with p (sorting based on calculated polar angle)\n",
    "3. Consider points in order; discard if it doesn't make a CCW turn"
   ]
  },
  {
   "cell_type": "code",
   "execution_count": null,
   "metadata": {},
   "outputs": [],
   "source": []
  }
 ],
 "metadata": {
  "kernelspec": {
   "display_name": "Python 3",
   "language": "python",
   "name": "python3"
  },
  "language_info": {
   "codemirror_mode": {
    "name": "ipython",
    "version": 3
   },
   "file_extension": ".py",
   "mimetype": "text/x-python",
   "name": "python",
   "nbconvert_exporter": "python",
   "pygments_lexer": "ipython3",
   "version": "3.7.4"
  }
 },
 "nbformat": 4,
 "nbformat_minor": 2
}
