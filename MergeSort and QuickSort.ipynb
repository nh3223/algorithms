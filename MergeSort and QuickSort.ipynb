{
 "cells": [
  {
   "cell_type": "markdown",
   "metadata": {},
   "source": [
    "# Algorithms Week 3, MergeSort and QuickSort"
   ]
  },
  {
   "cell_type": "markdown",
   "metadata": {},
   "source": [
    "## MergeSort"
   ]
  },
  {
   "cell_type": "markdown",
   "metadata": {},
   "source": [
    "### General Approach\n",
    "\n",
    "1. Divide array into two halves\n",
    "2. Recursively sort each half\n",
    "3. Merge the the two halves together"
   ]
  },
  {
   "cell_type": "code",
   "execution_count": 56,
   "metadata": {},
   "outputs": [
    {
     "data": {
      "text/plain": [
       "[1, 2, 3, 4, 5, 6, 7, 8, 9, 10]"
      ]
     },
     "execution_count": 56,
     "metadata": {},
     "output_type": "execute_result"
    }
   ],
   "source": [
    "def merge(L1, L2, compare = lambda x, y: x <= y):\n",
    "    L = []\n",
    "    i = 0\n",
    "    j = 0\n",
    "    while i < len(L1) and j < len(L2):\n",
    "        if compare(L1[i], L2[j]):\n",
    "            L.append(L1[i])\n",
    "            i += 1\n",
    "        else:\n",
    "            L.append(L2[j])\n",
    "            j += 1\n",
    "    if i == len(L1):\n",
    "        L.extend(L2[j:])\n",
    "    else:\n",
    "        L.extend(L1[i:])\n",
    "    return L\n",
    "\n",
    "test1 = [1,3,5,7,9]\n",
    "test2 = [2,4,6,8,10]\n",
    "merge(test1,test2)"
   ]
  },
  {
   "cell_type": "code",
   "execution_count": 83,
   "metadata": {},
   "outputs": [
    {
     "name": "stdout",
     "output_type": "stream",
     "text": [
      "[1, 2, 3, 4, 5, 6, 7, 8, 9, 10]\n",
      "[10, 9, 8, 7, 6, 5, 4, 3, 2, 1]\n"
     ]
    }
   ],
   "source": [
    "def short_merge(L1, L2, compare):\n",
    "    L = []\n",
    "    while L1 != [] and L2 != []:\n",
    "        L.append(L1.pop(0)) if compare(L1[0], L2[0]) else L.append(L2.pop(0))\n",
    "    L.extend(L1)\n",
    "    L.extend(L2)\n",
    "    return L\n",
    "\n",
    "test1 = [1,3,5,7,9]\n",
    "test2 = [2,4,6,8,10]\n",
    "test3 = [9,7,5,3,1]\n",
    "test4 = [10,8,6,4,2]\n",
    "print(short_merge(test1, test2, lambda x, y: x <= y))\n",
    "print(short_merge(test3, test4, lambda x, y: x >= y))"
   ]
  },
  {
   "cell_type": "code",
   "execution_count": 95,
   "metadata": {},
   "outputs": [
    {
     "name": "stdout",
     "output_type": "stream",
     "text": [
      "[23, 18, 11, 7, 7, 6, 4, 3, 3, 2, 2, 1, 0, -1]\n",
      "[-1, 0, 1, 2, 2, 3, 3, 4, 6, 7, 7, 11, 18, 23]\n",
      "39.9 µs ± 1.38 µs per loop (mean ± std. dev. of 7 runs, 10000 loops each)\n"
     ]
    }
   ],
   "source": [
    "def merge_sort(L, compare = lambda x, y: x <= y):\n",
    "    N = len(L)\n",
    "    return L if N <= 1 else short_merge(merge_sort(L[:N//2], compare), merge_sort(L[N//2:], compare), compare)\n",
    "\n",
    "test = [6,7,2,3,4,7,18,23,3,2,1,11,0,-1]\n",
    "print(merge_sort(test, lambda x, y: x >= y))\n",
    "print(merge_sort(test))\n",
    "%timeit merge_sort(test)"
   ]
  },
  {
   "cell_type": "markdown",
   "metadata": {},
   "source": [
    "### Time and Space Complexity\n",
    "\n",
    "Time complexity of mergesort is NlogN.  Space complexity uses additional space proportional to N.\n",
    "\n",
    "### Issues and Improvements\n",
    "\n",
    "MergeSort has too much overhead for small subarrays.  Switch to insertion sort when subarray length is 7 or less.\n",
    "\n",
    "Stop if already sorted.  Is biggest item in first half smaller than smallest item in second half"
   ]
  },
  {
   "cell_type": "code",
   "execution_count": 99,
   "metadata": {},
   "outputs": [
    {
     "name": "stdout",
     "output_type": "stream",
     "text": [
      "[1, 3, 5, 6, 8, 10]\n",
      "[-5, -1, 0, 1, 3, 5]\n",
      "[-6, 0, 1, 3, 5, 8]\n",
      "[23, 18, 11, 7, 7, 6, 4, 3, 3, 2, 2, 1, 0, -1]\n",
      "[-1, 0, 1, 2, 2, 3, 3, 4, 6, 7, 7, 11, 18, 23]\n",
      "42.3 µs ± 3.43 µs per loop (mean ± std. dev. of 7 runs, 10000 loops each)\n"
     ]
    }
   ],
   "source": [
    "def insertion_sort(L):\n",
    "    for i in range(1,len(L)):\n",
    "        j = i\n",
    "        while j > 0 and L[j] < L[j-1]:\n",
    "            L[j], L[j-1] = L[j-1], L[j]\n",
    "            j -= 1\n",
    "    return L\n",
    "\n",
    "def improved_short_merge(L1, L2, compare):\n",
    "    if compare(L1[-1],L2[0]):\n",
    "        return L1 + L2\n",
    "    if compare(L2[-1],L1[0]):\n",
    "        return L2 + L1\n",
    "    L = []\n",
    "    while L1 != [] and L2 != []:\n",
    "        L.append(L1.pop(0)) if compare(L1[0], L2[0]) else L.append(L2.pop(0))\n",
    "    L.extend(L1)\n",
    "    L.extend(L2)\n",
    "    return L\n",
    "\n",
    "def improved_merge_sort(L, compare = lambda x, y: x <= y):\n",
    "    N = len(L)        \n",
    "    return insertion_sort(L) if N <= 7 else short_merge(merge_sort(L[:N//2], compare), merge_sort(L[N//2:], compare), compare)\n",
    "\n",
    "test5 = [1,3,5]\n",
    "test6 = [6,8,10]\n",
    "test7 = [-5,-1,0]\n",
    "test8 = [-6,0,8]\n",
    "print(improved_short_merge(test5,test6, lambda x,y: x<=y))\n",
    "print(improved_short_merge(test5,test7, lambda x,y: x<=y))\n",
    "print(improved_short_merge(test5,test8, lambda x,y: x<=y))\n",
    "\n",
    "test = [6,7,2,3,4,7,18,23,3,2,1,11,0,-1]\n",
    "print(improved_merge_sort(test, lambda x, y: x >= y))\n",
    "print(improved_merge_sort(test))\n",
    "%timeit improved_merge_sort(test)\n"
   ]
  },
  {
   "cell_type": "code",
   "execution_count": null,
   "metadata": {},
   "outputs": [],
   "source": []
  },
  {
   "cell_type": "code",
   "execution_count": null,
   "metadata": {},
   "outputs": [],
   "source": []
  }
 ],
 "metadata": {
  "kernelspec": {
   "display_name": "Python 3",
   "language": "python",
   "name": "python3"
  },
  "language_info": {
   "codemirror_mode": {
    "name": "ipython",
    "version": 3
   },
   "file_extension": ".py",
   "mimetype": "text/x-python",
   "name": "python",
   "nbconvert_exporter": "python",
   "pygments_lexer": "ipython3",
   "version": "3.7.4"
  }
 },
 "nbformat": 4,
 "nbformat_minor": 2
}
