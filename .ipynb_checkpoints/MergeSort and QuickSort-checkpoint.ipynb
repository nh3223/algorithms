{
 "cells": [
  {
   "cell_type": "markdown",
   "metadata": {},
   "source": [
    "# Algorithms Week 3, MergeSort and QuickSort"
   ]
  },
  {
   "cell_type": "markdown",
   "metadata": {},
   "source": [
    "## MergeSort"
   ]
  },
  {
   "cell_type": "markdown",
   "metadata": {},
   "source": [
    "### General Approach\n",
    "\n",
    "1. Divide array into two halves\n",
    "2. Recursively sort each half\n",
    "3. Merge the the two halves together"
   ]
  },
  {
   "cell_type": "code",
   "execution_count": 102,
   "metadata": {},
   "outputs": [
    {
     "data": {
      "text/plain": [
       "[1, 2, 3, 4, 5, 6, 7, 8, 9, 10]"
      ]
     },
     "execution_count": 102,
     "metadata": {},
     "output_type": "execute_result"
    }
   ],
   "source": [
    "def merge(L1, L2, compare = lambda x, y: x <= y):\n",
    "    L = []\n",
    "    i = 0\n",
    "    j = 0\n",
    "    while i < len(L1) and j < len(L2):\n",
    "        if compare(L1[i], L2[j]):\n",
    "            L.append(L1[i])\n",
    "            i += 1\n",
    "        else:\n",
    "            L.append(L2[j])\n",
    "            j += 1\n",
    "    if i == len(L1):\n",
    "        L.extend(L2[j:])\n",
    "    else:\n",
    "        L.extend(L1[i:])\n",
    "    return L\n",
    "\n",
    "test1 = [1,3,5,7,9]\n",
    "test2 = [2,4,6,8,10]\n",
    "merge(test1,test2)"
   ]
  },
  {
   "cell_type": "code",
   "execution_count": 105,
   "metadata": {},
   "outputs": [
    {
     "name": "stdout",
     "output_type": "stream",
     "text": [
      "[1, 2, 3, 4, 5, 6, 7, 8, 9, 10]\n",
      "[10, 9, 8, 7, 6, 5, 4, 3, 2, 1]\n"
     ]
    }
   ],
   "source": [
    "def short_merge(L1, L2, compare):\n",
    "    L = []\n",
    "    while L1 != [] and L2 != []:\n",
    "        L.append(L1.pop(0)) if compare(L1[0], L2[0]) else L.append(L2.pop(0))\n",
    "    L.extend(L1)\n",
    "    L.extend(L2)\n",
    "    return L\n",
    "\n",
    "test1 = [1,3,5,7,9]\n",
    "test2 = [2,4,6,8,10]\n",
    "test3 = [9,7,5,3,1]\n",
    "test4 = [10,8,6,4,2]\n",
    "print(short_merge(test1, test2, lambda x, y: x <= y))\n",
    "print(short_merge(test3, test4, lambda x, y: x >= y))"
   ]
  },
  {
   "cell_type": "code",
   "execution_count": 106,
   "metadata": {},
   "outputs": [
    {
     "name": "stdout",
     "output_type": "stream",
     "text": [
      "[23, 18, 11, 7, 7, 6, 4, 3, 3, 2, 2, 1, 0, -1]\n",
      "[-1, 0, 1, 2, 2, 3, 3, 4, 6, 7, 7, 11, 18, 23]\n",
      "41.1 µs ± 2.11 µs per loop (mean ± std. dev. of 7 runs, 10000 loops each)\n"
     ]
    }
   ],
   "source": [
    "def merge_sort(L, compare = lambda x, y: x <= y):\n",
    "    N = len(L)\n",
    "    return L if N <= 1 else short_merge(merge_sort(L[:N//2], compare), merge_sort(L[N//2:], compare), compare)\n",
    "\n",
    "test = [6,7,2,3,4,7,18,23,3,2,1,11,0,-1]\n",
    "print(merge_sort(test, lambda x, y: x >= y))\n",
    "print(merge_sort(test))\n",
    "%timeit merge_sort(test)"
   ]
  },
  {
   "cell_type": "markdown",
   "metadata": {},
   "source": [
    "### Time and Space Complexity\n",
    "\n",
    "Time complexity of mergesort is NlogN.  Space complexity uses additional space proportional to N.\n",
    "\n",
    "### Issues and Improvements\n",
    "\n",
    "MergeSort has too much overhead for small subarrays.  Switch to insertion sort when subarray length is 7 or less.\n",
    "\n",
    "Stop if already sorted.  Is biggest item in first half smaller than smallest item in second half"
   ]
  },
  {
   "cell_type": "code",
   "execution_count": 107,
   "metadata": {},
   "outputs": [
    {
     "name": "stdout",
     "output_type": "stream",
     "text": [
      "[1, 3, 5, 6, 8, 10]\n",
      "[-5, -1, 0, 1, 3, 5]\n",
      "[-6, 0, 1, 3, 5, 8]\n",
      "[23, 18, 11, 7, 7, 6, 4, 3, 3, 2, 2, 1, 0, -1]\n",
      "[-1, 0, 1, 2, 2, 3, 3, 4, 6, 7, 7, 11, 18, 23]\n",
      "45.8 µs ± 8.44 µs per loop (mean ± std. dev. of 7 runs, 10000 loops each)\n"
     ]
    }
   ],
   "source": [
    "def insertion_sort(L):\n",
    "    for i in range(1,len(L)):\n",
    "        j = i\n",
    "        while j > 0 and L[j] < L[j-1]:\n",
    "            L[j], L[j-1] = L[j-1], L[j]\n",
    "            j -= 1\n",
    "    return L\n",
    "\n",
    "def improved_short_merge(L1, L2, compare):\n",
    "    if compare(L1[-1],L2[0]):\n",
    "        return L1 + L2\n",
    "    if compare(L2[-1],L1[0]):\n",
    "        return L2 + L1\n",
    "    L = []\n",
    "    while L1 != [] and L2 != []:\n",
    "        L.append(L1.pop(0)) if compare(L1[0], L2[0]) else L.append(L2.pop(0))\n",
    "    L.extend(L1)\n",
    "    L.extend(L2)\n",
    "    return L\n",
    "\n",
    "def improved_merge_sort(L, compare = lambda x, y: x <= y):\n",
    "    N = len(L)        \n",
    "    return insertion_sort(L) if N <= 7 else short_merge(merge_sort(L[:N//2], compare), merge_sort(L[N//2:], compare), compare)\n",
    "\n",
    "test5 = [1,3,5]\n",
    "test6 = [6,8,10]\n",
    "test7 = [-5,-1,0]\n",
    "test8 = [-6,0,8]\n",
    "print(improved_short_merge(test5,test6, lambda x,y: x<=y))\n",
    "print(improved_short_merge(test5,test7, lambda x,y: x<=y))\n",
    "print(improved_short_merge(test5,test8, lambda x,y: x<=y))\n",
    "\n",
    "test = [6,7,2,3,4,7,18,23,3,2,1,11,0,-1]\n",
    "print(improved_merge_sort(test, lambda x, y: x >= y))\n",
    "print(improved_merge_sort(test))\n",
    "%timeit improved_merge_sort(test)\n"
   ]
  },
  {
   "cell_type": "markdown",
   "metadata": {},
   "source": [
    "## Quick Sort"
   ]
  },
  {
   "cell_type": "markdown",
   "metadata": {},
   "source": [
    "### General Approach\n",
    "\n",
    "1. Shuffle the array\n",
    "2. Partition such that for some random entry (generally would use the first key) everything to the left is less and everything to the right is more.\n",
    "3. Sort each side recursively"
   ]
  },
  {
   "cell_type": "code",
   "execution_count": 108,
   "metadata": {},
   "outputs": [
    {
     "name": "stdout",
     "output_type": "stream",
     "text": [
      "[-1, 0, 1, 2, 2, 3, 3, 4, 6, 7, 7, 11, 18, 23]\n",
      "36.1 µs ± 3.23 µs per loop (mean ± std. dev. of 7 runs, 10000 loops each)\n"
     ]
    }
   ],
   "source": [
    "import random\n",
    "\n",
    "def partition(L, low, high):\n",
    "    pivot = L[low]\n",
    "    i = low + 1\n",
    "    j = high\n",
    "    \n",
    "    while True:\n",
    "        while L[i] <= pivot and i < high:\n",
    "            i += 1\n",
    "        while L[j] > pivot and j > low:\n",
    "            j -= 1\n",
    "        if j <= i:\n",
    "            break\n",
    "        L[i], L[j] = L[j], L[i]\n",
    "    \n",
    "    L[low], L[j] = L[j], L[low]\n",
    "    \n",
    "    return j        \n",
    "\n",
    "def q_sort(L, low, high):\n",
    "    if high <= low:\n",
    "       return L \n",
    "    index = partition(L, low, high)\n",
    "    q_sort(L, low, index - 1)\n",
    "    q_sort(L, index + 1, high)\n",
    "    return L\n",
    "\n",
    "def quick_sort(L):\n",
    "    random.shuffle(L)\n",
    "    q_sort(L, 0, len(L) - 1)\n",
    "    return L\n",
    "\n",
    "test11 = [6,7,2,3,4,7,18,23,3,2,1,11,0,-1]\n",
    "print(quick_sort(test11))\n",
    "%timeit quick_sort(test11)"
   ]
  },
  {
   "cell_type": "markdown",
   "metadata": {},
   "source": [
    "### Time and Space Complexity\n",
    "\n",
    "Worst case is N^2 (quadratic), but on average it is NlogN and the average will usually apply due to the shuffle.  It generally is faster than merge sort.   Another benefit over merge sort is that it does not use extra space."
   ]
  },
  {
   "cell_type": "markdown",
   "metadata": {},
   "source": [
    "## Selection\n",
    "\n",
    "Given an array, find the kth largest.\n",
    "\n",
    "Do the partitioning and then only sort one subarray until j = k."
   ]
  },
  {
   "cell_type": "code",
   "execution_count": 109,
   "metadata": {},
   "outputs": [
    {
     "name": "stdout",
     "output_type": "stream",
     "text": [
      "14\n",
      "-1\n",
      "0\n",
      "1\n",
      "2\n",
      "2\n",
      "3\n",
      "3\n",
      "4\n",
      "6\n",
      "7\n",
      "7\n",
      "11\n",
      "18\n",
      "23\n",
      "25 µs ± 1.72 µs per loop (mean ± std. dev. of 7 runs, 10000 loops each)\n"
     ]
    }
   ],
   "source": [
    "def quick_select(L, k):\n",
    "    random.shuffle(L)\n",
    "    low = 0\n",
    "    high = len(L) - 1\n",
    "    while high > low:\n",
    "        j = partition(L, low, high)\n",
    "        if j < k:\n",
    "            low = j + 1\n",
    "        elif j > k:\n",
    "            high = j - 1\n",
    "        else:\n",
    "            return L[j]\n",
    "    return L[low] if high == low else L[j]\n",
    "\n",
    "print(len(test11))\n",
    "for i in range(len(test11)):\n",
    "    print(quick_select(test11,i))\n",
    "%timeit quick_select(test11,6)"
   ]
  },
  {
   "cell_type": "markdown",
   "metadata": {},
   "source": [
    "### Duplicate Keys\n",
    "\n",
    "With many duplicate keys, Mergesort is not really affected too much, but quicksort can lose efficiency.  A three-way partitioning approach can be much more efficient."
   ]
  },
  {
   "cell_type": "code",
   "execution_count": 110,
   "metadata": {},
   "outputs": [
    {
     "name": "stdout",
     "output_type": "stream",
     "text": [
      "142 µs ± 7.4 µs per loop (mean ± std. dev. of 7 runs, 10000 loops each)\n",
      "126 µs ± 2.05 µs per loop (mean ± std. dev. of 7 runs, 10000 loops each)\n",
      "52 µs ± 1.63 µs per loop (mean ± std. dev. of 7 runs, 10000 loops each)\n"
     ]
    }
   ],
   "source": [
    "def three_way(L, low, high):\n",
    "    if high <= low:\n",
    "        return L\n",
    "    upper_bound = high\n",
    "    lower_bound = low\n",
    "    pivot = L[low]\n",
    "    i = low\n",
    "    while i <= upper_bound:\n",
    "        if L[i] < pivot:\n",
    "            L[i], L[lower_bound] = L[lower_bound], L[i]\n",
    "            i += 1\n",
    "            lower_bound += 1\n",
    "        elif L[i] > pivot:\n",
    "            L[i], L[upper_bound] = L[upper_bound], L[i]\n",
    "            upper_bound -= 1\n",
    "        else:\n",
    "            i += 1\n",
    "    \n",
    "    three_way(L,low,lower_bound)\n",
    "    three_way(L,upper_bound + 1,high)\n",
    "    return L\n",
    "            \n",
    "    \n",
    "def three_way_sort(L):\n",
    "    return three_way(L, 0, len(L) - 1)\n",
    "\n",
    "test_3_way = [4,6,7,6,4,4,4,6,6,6,6,7,7,7,7,4,4,4,6,6,6,3,3,3,3,3,5,5,2,2,3,3,3,6,6,6,6,7,7,7]\n",
    "#print(three_way_sort(test_3_way))\n",
    "%timeit improved_merge_sort(test_3_way)\n",
    "test_3_way = [4,6,7,6,4,4,4,6,6,6,6,7,7,7,7,4,4,4,6,6,6,3,3,3,3,3,5,5,2,2,3,3,3,6,6,6,6,7,7,7]\n",
    "%timeit quick_sort(test_3_way)\n",
    "test_3_way = [4,6,7,6,4,4,4,6,6,6,6,7,7,7,7,4,4,4,6,6,6,3,3,3,3,3,5,5,2,2,3,3,3,6,6,6,6,7,7,7]\n",
    "%timeit three_way_sort(test_3_way)"
   ]
  },
  {
   "cell_type": "code",
   "execution_count": null,
   "metadata": {},
   "outputs": [],
   "source": []
  },
  {
   "cell_type": "code",
   "execution_count": null,
   "metadata": {},
   "outputs": [],
   "source": []
  },
  {
   "cell_type": "code",
   "execution_count": null,
   "metadata": {},
   "outputs": [],
   "source": []
  }
 ],
 "metadata": {
  "kernelspec": {
   "display_name": "Python 3",
   "language": "python",
   "name": "python3"
  },
  "language_info": {
   "codemirror_mode": {
    "name": "ipython",
    "version": 3
   },
   "file_extension": ".py",
   "mimetype": "text/x-python",
   "name": "python",
   "nbconvert_exporter": "python",
   "pygments_lexer": "ipython3",
   "version": "3.7.4"
  }
 },
 "nbformat": 4,
 "nbformat_minor": 2
}
