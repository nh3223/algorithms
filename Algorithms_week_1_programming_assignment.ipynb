{
 "cells": [
  {
   "cell_type": "markdown",
   "metadata": {},
   "source": [
    "# Algorithms Part I, Week I Programming Assignment\n",
    "\n",
    "## Percolation"
   ]
  },
  {
   "cell_type": "markdown",
   "metadata": {},
   "source": [
    "### Problem Statement\n",
    "\n",
    "#### Percolation.\n",
    "\n",
    "Given a composite systems comprised of randomly distributed insulating and metallic materials: what fraction of the materials need to be metallic so that the composite system is an electrical conductor? Given a porous landscape with water on the surface (or oil below), under what conditions will the water be able to drain through to the bottom (or the oil to gush through to the surface)? Scientists have defined an abstract process known as percolation to model such situations.\n",
    "\n",
    "#### The model.\n",
    "\n",
    "We model a percolation system using an n-by-n grid of sites. Each site is either open or blocked. A full site is an open site that can be connected to an open site in the top row via a chain of neighboring (left, right, up, down) open sites. We say the system percolates if there is a full site in the bottom row. In other words, a system percolates if we fill all open sites connected to the top row and that process fills some open site on the bottom row. (For the insulating/metallic materials example, the open sites correspond to metallic materials, so that a system that percolates has a metallic path from top to bottom, with full sites conducting. For the porous substance example, the open sites correspond to empty space through which water might flow, so that a system that percolates lets water fill open sites, flowing from top to bottom.)\n",
    "\n",
    "#### The problem. \n",
    "\n",
    "In a famous scientific problem, researchers are interested in the following question: if sites are independently set to be open with probability p (and therefore blocked with probability 1 − p), what is the probability that the system percolates? When p equals 0, the system does not percolate; when p equals 1, the system percolates. When n is sufficiently large, there is a threshold value p* such that when p < p* a random n-by-n grid almost never percolates, and when p > p*, a random n-by-n grid almost always percolates. No mathematical solution for determining the percolation threshold p* has yet been derived. Your task is to write a computer program to estimate p*."
   ]
  },
  {
   "cell_type": "markdown",
   "metadata": {},
   "source": [
    "### Step 0: Import Modules for Use in Solution"
   ]
  },
  {
   "cell_type": "code",
   "execution_count": 245,
   "metadata": {},
   "outputs": [],
   "source": [
    "import math\n",
    "import random\n",
    "import statistics"
   ]
  },
  {
   "cell_type": "markdown",
   "metadata": {},
   "source": [
    "### Step 1: Define the Site Class\n",
    "\n",
    "The Site class includes the following functions:\n",
    "\n",
    "#### __init__\n",
    "\n",
    "Initializes a site.  Is called from the Grid __init__ class and takes as input the [row, column] location of the site, along with the overall size of the grid.\n",
    "    \n",
    "    status - Boolean - True if site is open.  The site in Row 0 and the site in Row N + 1 start out as True, all other start out as False\n",
    "\n",
    "    size - Integer - All sites start out as size = 1\n",
    "    \n",
    "    location - The [row, column] location of the site in the grid matrix.  This does not change.\n",
    "\n",
    "    root - The root of the site.  Initially, this is the site itself.\n",
    "\n",
    "#### is_open\n",
    "\n",
    "Returns a boolean as to the state of status\n",
    "\n",
    "#### open_site\n",
    "\n",
    "Changes the boolean status of a site to True\n",
    "\n",
    "#### __str__\n",
    "\n",
    "Formats the site information when printed"
   ]
  },
  {
   "cell_type": "code",
   "execution_count": 279,
   "metadata": {},
   "outputs": [],
   "source": [
    "class Site:\n",
    "    \n",
    "    def __init__(self, i, j, N):\n",
    "        self.status = True if i == 0 or i == N + 1 else False\n",
    "        self.size = 1\n",
    "        self.location = [i,j]\n",
    "        self.root = self\n",
    "        \n",
    "    def is_open(self):\n",
    "        return self.status\n",
    "    \n",
    "    def open_site(self):\n",
    "        self.status = True\n",
    "        \n",
    "    def __str__(self):\n",
    "        return \"<status = \" + str(self.status) + \" , size = \" + str(self.size) + \", location = \" + str(self.location) + \", root = \" + str(self.root.location) + \">\"\n",
    "        "
   ]
  },
  {
   "cell_type": "markdown",
   "metadata": {},
   "source": [
    "Test functionality of the Site Class"
   ]
  },
  {
   "cell_type": "code",
   "execution_count": 280,
   "metadata": {},
   "outputs": [
    {
     "name": "stdout",
     "output_type": "stream",
     "text": [
      "<status = False , size = 1, location = [1, 1], root = [1, 1]>\n",
      "False\n",
      "True\n",
      "<status = True , size = 1, location = [1, 1], root = [1, 1]>\n"
     ]
    }
   ],
   "source": [
    "site = Site(1,1,2)\n",
    "print(site)\n",
    "print(site.is_open())\n",
    "site.open_site()\n",
    "print(site.is_open())\n",
    "print(site)"
   ]
  },
  {
   "cell_type": "markdown",
   "metadata": {},
   "source": [
    "### Step 2: Define the Grid Class\n",
    "\n",
    "The Grid class sets up the grid for percolation.  The grid class includes the following functions:\n",
    "\n",
    "#### __init__\n",
    "\n",
    "Initializes a grid of (N+2) x (N+2) sites.  The top and bottom rows have a single site, the middle rows have N+2 sites.  The extra columns on right and left simplify checking for adjacent squares.  Initializes the number of open_sites to zero.\n",
    "\n",
    "#### get_site\n",
    "\n",
    "Given a pair of numbers, returns the site associated with the location.\n",
    "\n",
    "#### get_random_site\n",
    "\n",
    "No inputs. Returns a random previously unopened site.\n",
    "\n",
    "#### open_site\n",
    "\n",
    "Given a site, performs the following functions:\n",
    "\n",
    "    Increases the number of open_sites\n",
    "    \n",
    "    Opens the site\n",
    "    \n",
    "    Calls get neighbors function\n",
    "    \n",
    "    Calls the Union function if neighbor is open and not already connected to the neighbor\n",
    "    \n",
    "#### get_neighbors\n",
    "\n",
    "Given a site, returns its neighbors.  The top row and bottom row are neighbors to all sites below and above them, respectively.\n",
    "\n",
    "#### find_root\n",
    "\n",
    "Given a site, returns its ultimate root and sets the root and its parent's root equal to its root.\n",
    "\n",
    "#### is_connected\n",
    "\n",
    "Given two sites, returns True if they are connected.\n",
    "\n",
    "#### union\n",
    "\n",
    "Given two sites, sets the root of the smaller tree to the root of the larger tree and updates the size of the tree.  Does not return anything.\n",
    "\n",
    "#### is_percolating\n",
    "\n",
    "No inputs.  Returns True if the top row is connected to the bottom row.\n",
    "\n",
    "#### __str__\n",
    "\n",
    "Formats the grid information when printed.\n"
   ]
  },
  {
   "cell_type": "code",
   "execution_count": 291,
   "metadata": {},
   "outputs": [],
   "source": [
    "import random\n",
    "\n",
    "class Grid:\n",
    "    \n",
    "    def __init__(self,N):\n",
    "        self.grid = []\n",
    "        for i in range(N+2):\n",
    "            row = []\n",
    "            if i == 0 or i == N + 1:\n",
    "                row.append(Site(i,0,N))\n",
    "            else:\n",
    "                for j in range(N+2):\n",
    "                    site = Site(i,j,N)\n",
    "                    row.append(site)\n",
    "            self.grid.append(row)\n",
    "        self.open_sites = 0\n",
    "    \n",
    "    def get_site(self,i,j):\n",
    "        if i == 0 or i == N + 1:\n",
    "            return self.grid[i][0]\n",
    "        return self.grid[i][j]\n",
    "    \n",
    "    def get_random_site(self):\n",
    "        while True:\n",
    "            site = self.get_site(random.choice(range(1,N+1)), random.choice(range(1,N+1)))\n",
    "            if not site.is_open():\n",
    "                return site\n",
    "    \n",
    "    def open_site(self, site):\n",
    "        self.open_sites += 1\n",
    "        site.open_site()\n",
    "        neighbors = self.get_neighbors(site)\n",
    "        for neighbor in neighbors:\n",
    "            if neighbor.is_open() and not self.is_connected(site, neighbor):\n",
    "                self.union(site, neighbor)\n",
    "    \n",
    "    def get_neighbors(self, site):\n",
    "        i, j = site.location\n",
    "        top = self.grid[0][0] if i == 1 else self.grid[i-1][j]\n",
    "        left = self.grid[i][j-1]\n",
    "        right = self.grid[i][j+1]\n",
    "        bottom = self.grid[i + 1][0] if i == N else self.grid[i+1][j]\n",
    "        return [top, left, right, bottom]\n",
    "    \n",
    "    def find_root(self,p):\n",
    "        while p != p.root:\n",
    "            p.root = p.root.root\n",
    "            p = p.root\n",
    "        return p\n",
    "    \n",
    "    def is_connected(self, p, q):\n",
    "        return self.find_root(p) == self.find_root(q)\n",
    "        \n",
    "    def union(self, p, q):\n",
    "        root_p = self.find_root(p)\n",
    "        root_q = self.find_root(q)   \n",
    "        if root_p.size < root_q.size:           \n",
    "            root_p.root = root_q.root\n",
    "        else:\n",
    "            root_q.root = root_p.root\n",
    "        root_p.size = root_q.size = root_p.size + root_q.size\n",
    "\n",
    "    def is_percolating(self):\n",
    "        return self.is_connected(self.get_site(0,0),self.get_site(N+1,0))\n",
    "    \n",
    "    def get_open_sites(self):\n",
    "        return self.open_sites\n",
    "    \n",
    "    def __str__(self):\n",
    "        return str([[str(site) for site in row] for row in self.grid])\n",
    "        "
   ]
  },
  {
   "cell_type": "markdown",
   "metadata": {},
   "source": [
    "Test functionality of the grid class"
   ]
  },
  {
   "cell_type": "code",
   "execution_count": 294,
   "metadata": {
    "scrolled": true
   },
   "outputs": [
    {
     "name": "stdout",
     "output_type": "stream",
     "text": [
      "<status = False , size = 1, location = [1, 2], root = [1, 2]>\n",
      "<status = False , size = 1, location = [2, 3], root = [2, 3]>\n",
      "-----------------------\n",
      "[['<status = True , size = 1, location = [0, 0], root = [0, 0]>'], ['<status = False , size = 1, location = [1, 0], root = [1, 0]>', '<status = False , size = 1, location = [1, 1], root = [1, 1]>', '<status = False , size = 1, location = [1, 2], root = [1, 2]>', '<status = False , size = 1, location = [1, 3], root = [1, 3]>', '<status = False , size = 1, location = [1, 4], root = [1, 4]>'], ['<status = False , size = 1, location = [2, 0], root = [2, 0]>', '<status = False , size = 1, location = [2, 1], root = [2, 1]>', '<status = False , size = 1, location = [2, 2], root = [2, 2]>', '<status = False , size = 1, location = [2, 3], root = [2, 3]>', '<status = False , size = 1, location = [2, 4], root = [2, 4]>'], ['<status = False , size = 1, location = [3, 0], root = [3, 0]>', '<status = False , size = 1, location = [3, 1], root = [3, 1]>', '<status = False , size = 1, location = [3, 2], root = [3, 2]>', '<status = False , size = 1, location = [3, 3], root = [3, 3]>', '<status = False , size = 1, location = [3, 4], root = [3, 4]>'], ['<status = True , size = 1, location = [4, 0], root = [4, 0]>']]\n",
      "-----------------------\n",
      "False\n",
      "True\n",
      "4\n"
     ]
    }
   ],
   "source": [
    "N = 3\n",
    "grid = Grid(N)\n",
    "site = grid.get_site(1,2)\n",
    "print(site)\n",
    "random_site = grid.get_random_site()\n",
    "print(random_site)\n",
    "print('-----------------------')\n",
    "print(grid)\n",
    "print('-----------------------')\n",
    "\n",
    "site_1 = grid.get_site(1,2)\n",
    "site_2 = grid.get_site(3,3)\n",
    "site_3 = grid.get_site(2,2)\n",
    "site_4 = grid.get_site(3,2)\n",
    "\n",
    "grid.open_site(site_1)\n",
    "\n",
    "grid.open_site(site_2)\n",
    "grid.open_site(site_3)\n",
    "print(grid.is_percolating())\n",
    "\n",
    "grid.open_site(site_4)\n",
    "\n",
    "print(grid.is_percolating())\n",
    "print(grid.get_open_sites())\n"
   ]
  },
  {
   "cell_type": "markdown",
   "metadata": {},
   "source": [
    "### Step 3: Define the Function for one run of percolation\n",
    "\n",
    "Takes the size of the grid as input.  Initializes the grid. Opens sites until the grid percolates. Returns number of open sites."
   ]
  },
  {
   "cell_type": "code",
   "execution_count": 300,
   "metadata": {},
   "outputs": [],
   "source": [
    "def percolate(N):\n",
    "    grid = Grid(N)\n",
    "    while not grid.is_percolating():\n",
    "        grid.open_site(grid.get_random_site())\n",
    "    return grid.get_open_sites()"
   ]
  },
  {
   "cell_type": "markdown",
   "metadata": {},
   "source": [
    "Test functionality of percolate"
   ]
  },
  {
   "cell_type": "code",
   "execution_count": 303,
   "metadata": {},
   "outputs": [
    {
     "name": "stdout",
     "output_type": "stream",
     "text": [
      "11\n",
      "10\n",
      "10\n"
     ]
    }
   ],
   "source": [
    "N = 4\n",
    "t = 3\n",
    "for _ in range(t):\n",
    "    print(percolate(N))"
   ]
  },
  {
   "cell_type": "markdown",
   "metadata": {},
   "source": [
    "### Step 4: Define Monte Carlo Function\n",
    "\n",
    "Takes size of grid (N) and number of iterations(t) as inputs and returns of list of the number of open cells needed to percolate on each iteration."
   ]
  },
  {
   "cell_type": "code",
   "execution_count": 305,
   "metadata": {},
   "outputs": [],
   "source": [
    "def monte_carlo(N,t):\n",
    "    return [percolate(N) for _ in range(t)]"
   ]
  },
  {
   "cell_type": "markdown",
   "metadata": {},
   "source": [
    "Test functionality of monte_carlo"
   ]
  },
  {
   "cell_type": "code",
   "execution_count": 306,
   "metadata": {},
   "outputs": [
    {
     "name": "stdout",
     "output_type": "stream",
     "text": [
      "[9, 9, 10, 10, 8]\n"
     ]
    }
   ],
   "source": [
    "N = 4\n",
    "t = 5\n",
    "print(monte_carlo(N,t))"
   ]
  },
  {
   "cell_type": "markdown",
   "metadata": {},
   "source": [
    "### Step 5: Compile statistics\n",
    "\n",
    "Takes the list from monte_carlo (openings), size(N) and iterations(t) as input and returns the mean, standard deviation, and 95% confidence intervals."
   ]
  },
  {
   "cell_type": "code",
   "execution_count": 307,
   "metadata": {},
   "outputs": [],
   "source": [
    "def compile_statistics(openings, N, t):\n",
    "    percentage_open = [number_open / N**2 for number_open in openings]\n",
    "    mean = statistics.mean(percentage_open)\n",
    "    standard_deviation = statistics.stdev(percentage_open)\n",
    "    confidence_interval = [mean - 1.96 * standard_deviation / math.sqrt(t), mean + 1.96 * standard_deviation / math.sqrt(t) ]\n",
    "    return mean, standard_deviation, confidence_interval"
   ]
  },
  {
   "cell_type": "markdown",
   "metadata": {},
   "source": [
    "### Step 6: Put It All Together\n",
    "\n",
    "Run size 10, 20 and 100 sizes with 20, 100, and 1000 iterations."
   ]
  },
  {
   "cell_type": "code",
   "execution_count": 310,
   "metadata": {},
   "outputs": [
    {
     "name": "stdout",
     "output_type": "stream",
     "text": [
      "Size =  10\n",
      "Iterations =  20\n",
      "Mean =  0.5875\n",
      "Standard Deviation =  0.0449414824199788\n",
      "Confidence Interval =  [0.5678035268986659, 0.6071964731013342]\n",
      "Size =  10\n",
      "Iterations =  100\n",
      "Mean =  0.5901\n",
      "Standard Deviation =  0.07789522877985959\n",
      "Confidence Interval =  [0.5748325351591475, 0.6053674648408525]\n",
      "Size =  10\n",
      "Iterations =  1000\n",
      "Mean =  0.59292\n",
      "Standard Deviation =  0.07476806714008236\n",
      "Confidence Interval =  [0.5882858271871434, 0.5975541728128566]\n",
      "Size =  20\n",
      "Iterations =  20\n",
      "Mean =  0.59325\n",
      "Standard Deviation =  0.04976986511619467\n",
      "Confidence Interval =  [0.5714373948803619, 0.6150626051196382]\n",
      "Size =  20\n",
      "Iterations =  100\n",
      "Mean =  0.596775\n",
      "Standard Deviation =  0.048826241857626046\n",
      "Confidence Interval =  [0.5872050565959054, 0.6063449434040947]\n",
      "Size =  20\n",
      "Iterations =  1000\n",
      "Mean =  0.5902875\n",
      "Standard Deviation =  0.04986529495943438\n",
      "Confidence Interval =  [0.5871968169979486, 0.5933781830020514]\n",
      "Size =  100\n",
      "Iterations =  20\n",
      "Mean =  0.590115\n",
      "Standard Deviation =  0.017175082164822986\n",
      "Confidence Interval =  [0.582587688357021, 0.5976423116429789]\n",
      "Size =  100\n",
      "Iterations =  100\n",
      "Mean =  0.591033\n",
      "Standard Deviation =  0.018223134674740717\n",
      "Confidence Interval =  [0.5874612656037509, 0.5946047343962492]\n",
      "Size =  100\n",
      "Iterations =  1000\n",
      "Mean =  0.5932955\n",
      "Standard Deviation =  0.015492968786899167\n",
      "Confidence Interval =  [0.5923352358459438, 0.5942557641540561]\n"
     ]
    }
   ],
   "source": [
    "sizes = [10, 20, 100]\n",
    "iterations = [20, 100, 1000]\n",
    "\n",
    "for N in sizes:\n",
    "    for t in iterations:\n",
    "        simulation_results = monte_carlo(N,t)\n",
    "        mean, standard_deviation, confidence_interval = compile_statistics(simulation_results, N, t)\n",
    "        print('Size = ', N)\n",
    "        print('Iterations = ', t)\n",
    "        print('Mean = ', mean)\n",
    "        print('Standard Deviation = ', standard_deviation)\n",
    "        print('Confidence Interval = ', confidence_interval)"
   ]
  },
  {
   "cell_type": "code",
   "execution_count": null,
   "metadata": {},
   "outputs": [],
   "source": []
  }
 ],
 "metadata": {
  "kernelspec": {
   "display_name": "Python 3",
   "language": "python",
   "name": "python3"
  },
  "language_info": {
   "codemirror_mode": {
    "name": "ipython",
    "version": 3
   },
   "file_extension": ".py",
   "mimetype": "text/x-python",
   "name": "python",
   "nbconvert_exporter": "python",
   "pygments_lexer": "ipython3",
   "version": "3.7.4"
  }
 },
 "nbformat": 4,
 "nbformat_minor": 2
}
