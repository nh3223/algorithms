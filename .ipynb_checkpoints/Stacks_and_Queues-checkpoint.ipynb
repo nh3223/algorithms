{
 "cells": [
  {
   "cell_type": "markdown",
   "metadata": {},
   "source": [
    "# Stacks and Queues Notes\n",
    "\n",
    "The course uses Java.  These notes will do the implementation in both python (which will actually be much easier!)"
   ]
  },
  {
   "cell_type": "markdown",
   "metadata": {},
   "source": [
    "## Stacks\n",
    "\n",
    "Stacks are a LIFO (last in, first out) data structure. The implementation will be as follows:\n",
    "    \n",
    "    Create empty stack\n",
    "    \n",
    "    Interest object on to stack (push)\n",
    "    \n",
    "    Return most recently added (pop)\n",
    "    \n",
    "    Check if empty\n",
    "    \n",
    "    Size"
   ]
  },
  {
   "cell_type": "markdown",
   "metadata": {},
   "source": [
    "### Create test client\n",
    "\n",
    "Takes a string as an input, and separates out into words. Creates a stack and processes the string.  Every '-' is a pop command, otherwise push.  Returns a string of the popped words."
   ]
  },
  {
   "cell_type": "code",
   "execution_count": 16,
   "metadata": {},
   "outputs": [],
   "source": [
    "def stack_test_client(s):\n",
    "    words = s.split(' ')\n",
    "    popped_words = ''\n",
    "    stack = Stack()\n",
    "    print(stack.is_empty())\n",
    "    for word in words:\n",
    "        if word == '-':\n",
    "            popped_words += stack.pop() + ' '\n",
    "        else:\n",
    "            stack.push(word)\n",
    "    print(stack.is_empty())\n",
    "    print(stack.size())        \n",
    "    return popped_words    "
   ]
  },
  {
   "cell_type": "markdown",
   "metadata": {},
   "source": [
    "### Create Stack Class\n",
    "\n",
    "This class will have all of the implementation methods described above."
   ]
  },
  {
   "cell_type": "code",
   "execution_count": 17,
   "metadata": {},
   "outputs": [],
   "source": [
    "class Stack:\n",
    "    \n",
    "    def __init__(self):    \n",
    "        self.stack = []\n",
    "        \n",
    "    def push(self,item):\n",
    "        self.stack.append(item)\n",
    "        \n",
    "    def pop(self):\n",
    "        return self.stack.pop()\n",
    "    \n",
    "    def is_empty(self):\n",
    "        return self.stack == []\n",
    "        \n",
    "    def size(self):\n",
    "        return len(self.stack)"
   ]
  },
  {
   "cell_type": "markdown",
   "metadata": {},
   "source": [
    "### Test Implementation"
   ]
  },
  {
   "cell_type": "code",
   "execution_count": 18,
   "metadata": {},
   "outputs": [
    {
     "name": "stdout",
     "output_type": "stream",
     "text": [
      "True\n",
      "False\n",
      "2\n",
      "to be not that or be \n"
     ]
    }
   ],
   "source": [
    "s = 'to be or not to - be - - that - - - is'\n",
    "print(stack_test_client(s))"
   ]
  },
  {
   "cell_type": "markdown",
   "metadata": {},
   "source": [
    "## Queues\n",
    "\n",
    "Queues are a FIFO (first in, first out) data structure. The implementation will be as follows:\n",
    "\n",
    "    Create empty queue\n",
    "\n",
    "    Interest object into queue (enqueue)\n",
    "\n",
    "    Return first added (dequeue)\n",
    "\n",
    "    Check if empty\n",
    "\n",
    "    Size"
   ]
  },
  {
   "cell_type": "markdown",
   "metadata": {},
   "source": [
    "### Create test_client\n",
    "\n",
    "Takes a string as an input, and separates out into words. Creates a queue and processes the string.  Every '-' is a dequeue command, otherwise enqueue.  Returns a string of the dequeued words."
   ]
  },
  {
   "cell_type": "code",
   "execution_count": 20,
   "metadata": {},
   "outputs": [],
   "source": [
    "def queue_test_client(s):\n",
    "    words = s.split(' ')\n",
    "    dequeued_words = ''\n",
    "    queue = Queue()\n",
    "    print(queue.is_empty())\n",
    "    for word in words:\n",
    "        if word == '-':\n",
    "            dequeued_words += queue.dequeue() + ' '\n",
    "        else:\n",
    "            queue.enqueue(word)\n",
    "    print(queue.is_empty())\n",
    "    print(queue.size())        \n",
    "    return dequeued_words"
   ]
  },
  {
   "cell_type": "markdown",
   "metadata": {},
   "source": [
    "### Create Queue Class\n",
    "\n",
    "This class will have all of the implementation methods described above."
   ]
  },
  {
   "cell_type": "code",
   "execution_count": 22,
   "metadata": {},
   "outputs": [],
   "source": [
    "class Queue:\n",
    "    \n",
    "    def __init__(self):    \n",
    "        self.queue = []\n",
    "        \n",
    "    def enqueue(self, item):\n",
    "        self.queue.append(item)\n",
    "        \n",
    "    def dequeue(self):\n",
    "        return self.queue.pop(0)\n",
    "    \n",
    "    def is_empty(self):\n",
    "        return self.queue == []\n",
    "        \n",
    "    def size(self):\n",
    "        return len(self.queue)"
   ]
  },
  {
   "cell_type": "markdown",
   "metadata": {},
   "source": [
    "### Test Implementation"
   ]
  },
  {
   "cell_type": "code",
   "execution_count": 24,
   "metadata": {},
   "outputs": [
    {
     "name": "stdout",
     "output_type": "stream",
     "text": [
      "True\n",
      "False\n",
      "2\n",
      "to be or not to be \n"
     ]
    }
   ],
   "source": [
    "s = 'to be or not to - be - - that - - - is'\n",
    "print(queue_test_client(s))"
   ]
  },
  {
   "cell_type": "markdown",
   "metadata": {},
   "source": [
    "## Adding an Iterator to the Implementation\n",
    "\n",
    "In some cases, we may want to iterate over the items in a stack or queue (or other custom data structure).  To do this we need to add an iterator function (__iter__) to the class."
   ]
  },
  {
   "cell_type": "code",
   "execution_count": 37,
   "metadata": {},
   "outputs": [],
   "source": [
    "class Stack:\n",
    "    \n",
    "    def __init__(self):    \n",
    "        self.stack = []\n",
    "        \n",
    "    def push(self,item):\n",
    "        self.stack.append(item)\n",
    "        \n",
    "    def pop(self):\n",
    "        return None if self.is_empty() else self.stack.pop()\n",
    "    \n",
    "    def is_empty(self):\n",
    "        return self.stack == []\n",
    "        \n",
    "    def size(self):\n",
    "        return len(self.stack)\n",
    "    \n",
    "    def __iter__(self):\n",
    "        return iter(self.stack)"
   ]
  },
  {
   "cell_type": "markdown",
   "metadata": {},
   "source": [
    "### Test Implementation of Iterator"
   ]
  },
  {
   "cell_type": "code",
   "execution_count": 38,
   "metadata": {},
   "outputs": [
    {
     "name": "stdout",
     "output_type": "stream",
     "text": [
      "1\n",
      "2\n",
      "5\n"
     ]
    }
   ],
   "source": [
    "stack = Stack()\n",
    "stack.push(1)\n",
    "stack.push(2)\n",
    "stack.push(3)\n",
    "stack.pop()\n",
    "stack.push(4)\n",
    "stack.pop()\n",
    "stack.push(5)\n",
    "for item in stack:\n",
    "    print(item)"
   ]
  },
  {
   "cell_type": "markdown",
   "metadata": {},
   "source": [
    "## Stack and Queue Module in Python\n",
    "\n",
    "Stacks and queues (including priority queues) can be implemented using the queue module, rather than creating custom classes.\n"
   ]
  },
  {
   "cell_type": "code",
   "execution_count": 39,
   "metadata": {},
   "outputs": [],
   "source": [
    "import queue"
   ]
  },
  {
   "cell_type": "markdown",
   "metadata": {},
   "source": [
    "#### Creation\n",
    "\n",
    "Queue and LifoQueue take one argument for maxsize.  Default is infinite.  If a max size is established and an attempt is made to add an additional object, an exception will be thrown."
   ]
  },
  {
   "cell_type": "code",
   "execution_count": 40,
   "metadata": {},
   "outputs": [],
   "source": [
    "Q = queue.Queue()\n",
    "S = queue.LifoQueue()"
   ]
  },
  {
   "cell_type": "markdown",
   "metadata": {},
   "source": [
    "#### Adding and Removing Items\n",
    "\n",
    "To add items, use put().\n",
    "\n",
    "To remove items, use get().  \n",
    "\n",
    "To check if empty, use empty().\n",
    "\n",
    "To get size, use qsize().\n",
    "\n",
    "Queues and stacks formed this way are NOT iterable.  To implement iteration functionality, would need to add a wrapper function or class to be able to iterate through."
   ]
  },
  {
   "cell_type": "code",
   "execution_count": 48,
   "metadata": {},
   "outputs": [
    {
     "name": "stdout",
     "output_type": "stream",
     "text": [
      "True\n",
      "1\n",
      "2\n",
      "False\n",
      "3\n"
     ]
    }
   ],
   "source": [
    "Q = queue.Queue()\n",
    "print(Q.empty())\n",
    "Q.put(1)\n",
    "Q.put(2)\n",
    "Q.put(3)\n",
    "print(Q.get())\n",
    "print(Q.get())\n",
    "Q.put(4)\n",
    "Q.put(5)\n",
    "print(Q.empty())\n",
    "print(Q.qsize())"
   ]
  },
  {
   "cell_type": "markdown",
   "metadata": {},
   "source": [
    "## Dijkstra's Algorithm for mathematical expressions\n",
    "\n",
    "This algorithm uses two stacks, one for values and one for operators.  Using the two stacks, it is possible to just solve the equation going from left to right.  This is likely pretty similar to my HP RPN calculator."
   ]
  },
  {
   "cell_type": "code",
   "execution_count": 54,
   "metadata": {},
   "outputs": [
    {
     "data": {
      "text/plain": [
       "101"
      ]
     },
     "execution_count": 54,
     "metadata": {},
     "output_type": "execute_result"
    }
   ],
   "source": [
    "def solve(s):\n",
    "    numbers = '0123456789'\n",
    "    operators = '+-*/'\n",
    "    characters = s.split(' ')\n",
    "    value_stack = Stack()\n",
    "    operator_stack = Stack()\n",
    "    for c in characters:\n",
    "        if c in numbers:\n",
    "            value_stack.push(int(c))\n",
    "        elif c in operators:\n",
    "            operator_stack.push(c)\n",
    "        elif c == ')':\n",
    "            n_1 = value_stack.pop()\n",
    "            n_2 = value_stack.pop()\n",
    "            o = operator_stack.pop()\n",
    "            if o == '+':\n",
    "                value_stack.push(n_1 + n_2)\n",
    "            elif o == '*':\n",
    "                value_stack.push(n_1 * n_2)\n",
    "            elif o == '-':\n",
    "                value_stack.push(n_2 - n_1)\n",
    "            elif o == '/':\n",
    "                value_stack.push(n_2 + n_1)\n",
    "    return value_stack.pop()\n",
    "\n",
    "solve('( 1 + ( ( 2 + 3 ) * ( 4 * 5 ) ) )')"
   ]
  },
  {
   "cell_type": "code",
   "execution_count": null,
   "metadata": {},
   "outputs": [],
   "source": []
  }
 ],
 "metadata": {
  "kernelspec": {
   "display_name": "Python 3",
   "language": "python",
   "name": "python3"
  },
  "language_info": {
   "codemirror_mode": {
    "name": "ipython",
    "version": 3
   },
   "file_extension": ".py",
   "mimetype": "text/x-python",
   "name": "python",
   "nbconvert_exporter": "python",
   "pygments_lexer": "ipython3",
   "version": "3.7.4"
  }
 },
 "nbformat": 4,
 "nbformat_minor": 2
}
