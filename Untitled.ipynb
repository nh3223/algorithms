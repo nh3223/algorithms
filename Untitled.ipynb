{
 "cells": [
  {
   "cell_type": "markdown",
   "metadata": {},
   "source": [
    "# Alogrithms Part I, Week 3 Programming Assignment\n",
    "\n",
    "## Collinear Points"
   ]
  },
  {
   "cell_type": "markdown",
   "metadata": {},
   "source": [
    "### Problem Statement\n",
    "\n",
    "Write a program to recognize line patterns in a given set of points.\n",
    "Computer vision involves analyzing patterns in visual images and reconstructing the real-world objects that produced them. The process is often broken up into two phases: feature detection and pattern recognition. Feature detection involves selecting important features of the image; pattern recognition involves discovering patterns in the features. We will investigate a particularly clean pattern recognition problem involving points and line segments. This kind of pattern recognition arises in many other applications such as statistical data analysis.\n",
    "\n",
    "The problem. Given a set of n distinct points in the plane, find every (maximal) line segment that connects a subset of 4 or more of the points."
   ]
  },
  {
   "cell_type": "markdown",
   "metadata": {},
   "source": [
    "### Step 0: Import Modules"
   ]
  },
  {
   "cell_type": "code",
   "execution_count": 2,
   "metadata": {},
   "outputs": [],
   "source": [
    "import math"
   ]
  },
  {
   "cell_type": "markdown",
   "metadata": {},
   "source": [
    "### Step 1: Define a Point Class\n",
    "\n",
    "This class implements the following functions:\n",
    "\n",
    "    __init__: Initializes a point with (x,y) coordinates\n",
    "    \n",
    "    slope_to: Calculates the slope between the invoking point and another point\n",
    "    \n",
    "    __repr__: Defines the representation of a point"
   ]
  },
  {
   "cell_type": "code",
   "execution_count": 46,
   "metadata": {},
   "outputs": [],
   "source": [
    "class Point:\n",
    "    \n",
    "    def __init__(self, x, y):\n",
    "        self.x = x\n",
    "        self.y = y\n",
    "\n",
    "    def slope_to(self, other):\n",
    "        if self.x == other.x and self.y == other.y:\n",
    "            return -math.inf\n",
    "        if self.x == other.x:\n",
    "            return math.inf\n",
    "        if self.y == other.y:\n",
    "            return 0\n",
    "        return (other.y - self.y) / (other.x - self.x)\n",
    "\n",
    "    def __repr__(self):\n",
    "        return '(' + str(self.x) + ',' + str(self.y) + ')'"
   ]
  },
  {
   "cell_type": "markdown",
   "metadata": {},
   "source": [
    "Test Implementation of Point Class"
   ]
  },
  {
   "cell_type": "code",
   "execution_count": 50,
   "metadata": {},
   "outputs": [
    {
     "name": "stdout",
     "output_type": "stream",
     "text": [
      "1.0\n",
      "2.0\n"
     ]
    },
    {
     "data": {
      "text/plain": [
       "(1,1)"
      ]
     },
     "execution_count": 50,
     "metadata": {},
     "output_type": "execute_result"
    }
   ],
   "source": [
    "p = Point(1,1)\n",
    "q = Point(2,2)\n",
    "r = Point(2,3)\n",
    "print(p.slope_to(q))\n",
    "print(p.slope_to(r))\n",
    "p"
   ]
  },
  {
   "cell_type": "markdown",
   "metadata": {},
   "source": [
    "### Step 2: Brute Force Function\n",
    "\n",
    "This function applies a brute force methodology for determining whether points are collinear.  It looks a every combination of points and compares the slopes between all points.  Time complexity is N^4.\n",
    "\n",
    "Input: a list of points\n",
    "\n",
    "Output: A list of tuples containing the collinear points"
   ]
  },
  {
   "cell_type": "code",
   "execution_count": 48,
   "metadata": {},
   "outputs": [
    {
     "name": "stdout",
     "output_type": "stream",
     "text": [
      "[((-6,4), (3,4), (4,4), (2,4)), ((1,1), (2,2), (4,4), (5,5)), ((1,1), (2,0), (3,-1), (4,-2))]\n",
      "1.78 ms ± 145 µs per loop (mean ± std. dev. of 7 runs, 1000 loops each)\n"
     ]
    }
   ],
   "source": [
    "def brute_force(points):\n",
    "    collinear = []\n",
    "    N = len(points)\n",
    "    for i in range(0,N-3):\n",
    "        p = points[i]\n",
    "        for j in range(i+1,N-2):\n",
    "            q = points[j]\n",
    "            slope_q = p.slope_to(q)\n",
    "            for k in range(j+1, N-1):\n",
    "                r = points[k]\n",
    "                slope_r = p.slope_to(r)\n",
    "                for l in range(k+1, N):\n",
    "                    s = points[l]\n",
    "                    slope_s = p.slope_to(s)\n",
    "                    if slope_q == slope_r == slope_s:\n",
    "                        collinear.append((p,q,r,s))\n",
    "    return collinear\n",
    "\n",
    "points = [Point(-2,-4), Point(-6,4), Point(0,-3), Point(1,1), Point(2,2), Point(3,4), Point(4,4), Point(5,5), Point(0,1), Point(2,0), Point(3,-1), Point(4,-2), Point(5,3), Point(2,4), Point(3,6)]\n",
    "print(brute_force(points))\n",
    "%timeit brute_force(points)\n",
    "                    "
   ]
  },
  {
   "cell_type": "markdown",
   "metadata": {},
   "source": [
    "### Step 3: Fast Collinear Points Function\n",
    "\n",
    "This function first calculates the slopes between a point and all other points not yet considered, sorts the slopes, and then finds 3 consecutive equal slopes to find the collinear points.  Time complexity is N^2logN.  More than 1000 times faster for 15 points.\n",
    "\n",
    "Input: a list of points\n",
    "\n",
    "Output: A list of tuples containing the collinear points"
   ]
  },
  {
   "cell_type": "code",
   "execution_count": 49,
   "metadata": {},
   "outputs": [
    {
     "name": "stdout",
     "output_type": "stream",
     "text": [
      "[((-6,4), (3,4), (4,4), (2,4)), ((2,2), (1,1), (4,4), (5,5)), ((1,1), (2,0), (3,-1), (4,-2))]\n",
      "156 µs ± 3.31 µs per loop (mean ± std. dev. of 7 runs, 10000 loops each)\n"
     ]
    }
   ],
   "source": [
    "def fast_collinear_points(points):\n",
    "    collinear = []\n",
    "    for i in range(len(points)):\n",
    "        p = points[i]\n",
    "        slopes = [(point,p.slope_to(point)) for point in points[i+1:]]\n",
    "        slopes.sort(key=lambda x: x[1])\n",
    "        for j in range(len(slopes)-2):\n",
    "            if slopes[j][1] == slopes[j+1][1] == slopes[j+2][1]:\n",
    "                collinear.append((p,slopes[j][0],slopes[j+1][0],slopes[j+2][0]))\n",
    "    return collinear\n",
    "        \n",
    "points = [Point(-2,-4), Point(-6,4), Point(0,-3), Point(2,2), Point(1,1), Point(3,4), Point(4,4), Point(5,5), Point(0,1), Point(2,0), Point(3,-1), Point(4,-2), Point(5,3), Point(2,4), Point(3,6)]\n",
    "print(fast_collinear_points(points))\n",
    "%timeit fast_collinear_points(points)\n",
    "    "
   ]
  },
  {
   "cell_type": "code",
   "execution_count": null,
   "metadata": {},
   "outputs": [],
   "source": []
  }
 ],
 "metadata": {
  "kernelspec": {
   "display_name": "Python 3",
   "language": "python",
   "name": "python3"
  },
  "language_info": {
   "codemirror_mode": {
    "name": "ipython",
    "version": 3
   },
   "file_extension": ".py",
   "mimetype": "text/x-python",
   "name": "python",
   "nbconvert_exporter": "python",
   "pygments_lexer": "ipython3",
   "version": "3.7.4"
  }
 },
 "nbformat": 4,
 "nbformat_minor": 2
}
